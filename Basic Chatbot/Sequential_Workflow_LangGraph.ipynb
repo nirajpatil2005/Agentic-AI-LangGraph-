{
 "cells": [
  {
   "cell_type": "code",
   "execution_count": null,
   "id": "efbf70f0",
   "metadata": {},
   "outputs": [],
   "source": [
    "from langgraph.graph import StateGraph,START,END\n",
    "from langchain_huggingface import ChatHuggingFace,HuggingFaceEndpoint\n",
    "from typing import TypedDict"
   ]
  },
  {
   "cell_type": "markdown",
   "id": "10c102d8",
   "metadata": {},
   "source": [
    "**BMI WorkFlow**"
   ]
  },
  {
   "cell_type": "code",
   "execution_count": 36,
   "id": "6be21c33",
   "metadata": {},
   "outputs": [],
   "source": [
    "#define state\n",
    "\n",
    "class BMIState(TypedDict):\n",
    "    \n",
    "    weight_kg:float\n",
    "    height_cm:float\n",
    "    bmi:float\n",
    "    category:str"
   ]
  },
  {
   "cell_type": "code",
   "execution_count": 37,
   "id": "9f26838c",
   "metadata": {},
   "outputs": [],
   "source": [
    "def calculate_bmi(state:BMIState)->BMIState:\n",
    "    \n",
    "    weight=state['weight_kg']\n",
    "    height=state['height_cm']\n",
    "    bmi=weight/(height**2)\n",
    "    \n",
    "    state['bmi']=round(bmi,2)\n",
    "    return state"
   ]
  },
  {
   "cell_type": "code",
   "execution_count": 38,
   "id": "6d780883",
   "metadata": {},
   "outputs": [
    {
     "data": {
      "image/png": "[encoded data removed]",
      "text/plain": [
       "<langgraph.graph.state.CompiledStateGraph object at 0x000001D10D09F560>"
      ]
     },
     "execution_count": 38,
     "metadata": {},
     "output_type": "execute_result"
    }
   ],
   "source": [
    "#define graph\n",
    "graph=StateGraph(BMIState)\n",
    "\n",
    "#add nodes to the graph\n",
    "graph.add_node('calculate_bmi',calculate_bmi)\n",
    "\n",
    "#add edges of the graph\n",
    "graph.add_edge(START,'calculate_bmi')\n",
    "graph.add_edge('calculate_bmi',END)\n",
    "\n",
    "#workflow\n",
    "workflow=graph.compile()\n",
    "workflow"
   ]
  },
  {
   "cell_type": "code",
   "execution_count": 39,
   "id": "b506b72a",
   "metadata": {},
   "outputs": [
    {
     "data": {
      "text/plain": [
       "{'weight_kg': 87, 'height_cm': 1.8, 'bmi': 26.85}"
      ]
     },
     "execution_count": 39,
     "metadata": {},
     "output_type": "execute_result"
    }
   ],
   "source": [
    "#execute the graph\n",
    "workflow.invoke({'weight_kg':87,'height_cm':1.80})"
   ]
  },
  {
   "cell_type": "code",
   "execution_count": 31,
   "id": "804a717d",
   "metadata": {},
   "outputs": [
    {
     "data": {
      "image/png": "[encoded data removed]",
      "text/plain": [
       "<IPython.core.display.Image object>"
      ]
     },
     "execution_count": 31,
     "metadata": {},
     "output_type": "execute_result"
    }
   ],
   "source": [
    "from IPython.display import Image\n",
    "Image(workflow.get_graph().draw_mermaid_png())"
   ]
  },
  {
   "cell_type": "code",
   "execution_count": 40,
   "id": "dbc05d67",
   "metadata": {},
   "outputs": [],
   "source": [
    "def calculate_bmi(state:BMIState)->BMIState:\n",
    "    \n",
    "    weight=state['weight_kg']\n",
    "    height=state['height_cm']\n",
    "    bmi=weight/(height**2)\n",
    "\n",
    "    state['bmi']=round(bmi,2)\n",
    "    return state"
   ]
  },
  {
   "cell_type": "code",
   "execution_count": 41,
   "id": "cffbe87a",
   "metadata": {},
   "outputs": [],
   "source": [
    "\n",
    "def label_bmi(state: BMIState) -> BMIState:\n",
    "\n",
    "    bmi = state['bmi']\n",
    "\n",
    "    if bmi < 18.5:\n",
    "        state[\"category\"] = \"Underweight\"\n",
    "    elif 18.5 <= bmi < 25:\n",
    "        state[\"category\"] = \"Normal\"\n",
    "    elif 25 <= bmi < 30:\n",
    "        state[\"category\"] = \"Overweight\"\n",
    "    else:\n",
    "        state[\"category\"] = \"Obese\"\n",
    "\n",
    "    return state"
   ]
  },
  {
   "cell_type": "code",
   "execution_count": 42,
   "id": "cbd584ad",
   "metadata": {},
   "outputs": [
    {
     "data": {
      "image/png": "[encoded data removed]",
      "text/plain": [
       "<langgraph.graph.state.CompiledStateGraph object at 0x000001D10D09F800>"
      ]
     },
     "execution_count": 42,
     "metadata": {},
     "output_type": "execute_result"
    }
   ],
   "source": [
    "#define graph\n",
    "graph=StateGraph(BMIState)\n",
    "\n",
    "#add nodes to the graph\n",
    "graph.add_node('calculate_bmi',calculate_bmi)\n",
    "graph.add_node('labeled_bmi',label_bmi)\n",
    "\n",
    "#add edges of the graph\n",
    "graph.add_edge(START,'calculate_bmi')\n",
    "graph.add_edge('calculate_bmi','labeled_bmi')\n",
    "graph.add_edge('labeled_bmi',END)\n",
    "\n",
    "#workflow\n",
    "workflow=graph.compile()\n",
    "workflow"
   ]
  },
  {
   "cell_type": "code",
   "execution_count": 43,
   "id": "51b71230",
   "metadata": {},
   "outputs": [
    {
     "data": {
      "text/plain": [
       "{'weight_kg': 78, 'height_cm': 1.8, 'bmi': 24.07, 'category': 'Normal'}"
      ]
     },
     "execution_count": 43,
     "metadata": {},
     "output_type": "execute_result"
    }
   ],
   "source": [
    "workflow.invoke({'height_cm':1.8,'weight_kg':78})"
   ]
  },
  {
   "cell_type": "markdown",
   "id": "b3f9b58b",
   "metadata": {},
   "source": [
    "**Simple LLM WorkFlow**"
   ]
  },
  {
   "cell_type": "code",
   "execution_count": 59,
   "id": "3ded54f9",
   "metadata": {},
   "outputs": [],
   "source": [
    "from langgraph.graph import StateGraph\n",
    "from langchain_groq import ChatGroq\n",
    "from langchain_huggingface import ChatHuggingFace,HuggingFaceEndpoint\n",
    "from typing import TypedDict\n",
    "from dotenv import load_dotenv\n",
    "import os\n",
    "load_dotenv()\n",
    "hf_token=os.getenv(\"HF_TOKEN\")"
   ]
  },
  {
   "cell_type": "code",
   "execution_count": 55,
   "id": "289d8f67",
   "metadata": {},
   "outputs": [],
   "source": [
    "llm = HuggingFaceEndpoint(\n",
    "    repo_id=\"moonshotai/Kimi-K2-Instruct\",  # Use the correct model repo_id\n",
    "    task=\"text-generation\",  # You can adjust this based on your model task\n",
    "    model_kwargs={\"headers\": {\"Authorization\": f\"Bearer {hf_token}\"}}\n",
    ")\n",
    "\n",
    "model=ChatHuggingFace(llm=llm)"
   ]
  },
  {
   "cell_type": "code",
   "execution_count": 58,
   "id": "5731fa47",
   "metadata": {},
   "outputs": [
    {
     "data": {
      "text/plain": [
       "'Hi there! How can I help you today?'"
      ]
     },
     "execution_count": 58,
     "metadata": {},
     "output_type": "execute_result"
    }
   ],
   "source": [
    "model.invoke(\"hi\").content"
   ]
  },
  {
   "cell_type": "code",
   "execution_count": 65,
   "id": "feee514b",
   "metadata": {},
   "outputs": [],
   "source": [
    "api=os.getenv('test_groq')\n",
    "groq = ChatGroq(\n",
    "    groq_api_key=api,  # Replace with your actual key\n",
    "    model_name=\"meta-llama/llama-4-scout-17b-16e-instruct\"\n",
    ")"
   ]
  },
  {
   "cell_type": "code",
   "execution_count": 68,
   "id": "97c80022",
   "metadata": {},
   "outputs": [
    {
     "data": {
      "text/plain": [
       "'Hi! How are you today? Is there something I can help you with or would you like to chat?'"
      ]
     },
     "execution_count": 68,
     "metadata": {},
     "output_type": "execute_result"
    }
   ],
   "source": [
    "groq.invoke(\"hi\").content"
   ]
  },
  {
   "cell_type": "code",
   "execution_count": 69,
   "id": "faecadc0",
   "metadata": {},
   "outputs": [],
   "source": [
    "class LLMState(TypedDict):\n",
    "    \n",
    "    question:str\n",
    "    answer:str"
   ]
  },
  {
   "cell_type": "code",
   "execution_count": null,
   "id": "707c6282",
   "metadata": {},
   "outputs": [],
   "source": [
    "def llm_qa(state:LLMState)->LLMState:\n",
    "    \n",
    "    #extract the question from text\n",
    "    question=state['question']\n",
    "    #form a prompt\n",
    "    prompt=f'answer the following {question}'\n",
    "    #ask that question\n",
    "    answer=groq.invoke(prompt).content\n",
    "    #update the answer\n",
    "    state['answer']=answer\n",
    "    return state\n",
    "    "
   ]
  },
  {
   "cell_type": "code",
   "execution_count": 76,
   "id": "b5897570",
   "metadata": {},
   "outputs": [
    {
     "data": {
      "image/png": "[encoded data removed]",
      "text/plain": [
       "<langgraph.graph.state.CompiledStateGraph object at 0x000001D12C5F81D0>"
      ]
     },
     "execution_count": 76,
     "metadata": {},
     "output_type": "execute_result"
    }
   ],
   "source": [
    "#create graph\n",
    "graph=StateGraph(LLMState)\n",
    "\n",
    "graph.add_node('llm_qa',llm_qa)\n",
    "\n",
    "graph.add_edge(START,'llm_qa')\n",
    "graph.add_edge('llm_qa',END)\n",
    "\n",
    "workflow=graph.compile()\n",
    "workflow"
   ]
  },
  {
   "cell_type": "code",
   "execution_count": 77,
   "id": "cc7e90c0",
   "metadata": {},
   "outputs": [
    {
     "name": "stdout",
     "output_type": "stream",
     "text": [
      "The average distance from the Earth to the Moon is approximately **384,400 kilometers (238,900 miles)**.\n",
      "\n",
      "This distance is also known as the \"lunar distance\" or \"lunar mean distance.\" It's worth noting that the Moon's orbit is not a perfect circle, so its distance from Earth varies slightly over the course of a month. At its closest point, known as perigee, the Moon is about 356,400 kilometers (221,500 miles) away, and at its farthest point, known as apogee, it's about 405,500 kilometers (252,000 miles) away.\n"
     ]
    }
   ],
   "source": [
    "#execute\n",
    "\n",
    "intial_state={'question':'how far is moon from the earth ?'}\n",
    "final_state=workflow.invoke(intial_state)\n",
    "print(final_state['answer'])"
   ]
  },
  {
   "cell_type": "markdown",
   "id": "413be244",
   "metadata": {},
   "source": [
    "**Prompt Chaining**"
   ]
  },
  {
   "cell_type": "code",
   "execution_count": 78,
   "id": "5eb902fe",
   "metadata": {},
   "outputs": [
    {
     "data": {
      "text/plain": [
       "ChatGroq(client=<groq.resources.chat.completions.Completions object at 0x000001D12C9BA0C0>, async_client=<groq.resources.chat.completions.AsyncCompletions object at 0x000001D12C6052E0>, model_name='meta-llama/llama-4-scout-17b-16e-instruct', model_kwargs={}, groq_api_key=SecretStr('**********'))"
      ]
     },
     "execution_count": 78,
     "metadata": {},
     "output_type": "execute_result"
    }
   ],
   "source": [
    "groq"
   ]
  },
  {
   "cell_type": "code",
   "execution_count": 79,
   "id": "59a7988b",
   "metadata": {},
   "outputs": [],
   "source": [
    "class BlogState(TypedDict):\n",
    "    title:str\n",
    "    outline:str\n",
    "    content:str\n",
    "    "
   ]
  },
  {
   "cell_type": "code",
   "execution_count": 85,
   "id": "4ef5fee7",
   "metadata": {},
   "outputs": [],
   "source": [
    "def create_outline(state:BlogState)->BlogState:\n",
    "    \n",
    "    #fetch title\n",
    "    title=state['title']\n",
    "    \n",
    "    #call llm gen outline\n",
    "    prompt=f'generate outline on blog topic --> {title}'\n",
    "    outline=groq.invoke(prompt)\n",
    "    \n",
    "    #update state\n",
    "    state['outline']=outline\n",
    "    return state"
   ]
  },
  {
   "cell_type": "code",
   "execution_count": 86,
   "id": "e38870f6",
   "metadata": {},
   "outputs": [],
   "source": [
    "def create_blog(state:BlogState)->BlogState:\n",
    "    \n",
    "    #fetch title\n",
    "    title=state['title']\n",
    "    outline=state['outline']\n",
    "    \n",
    "    #call llm gen outline\n",
    "    prompt=f'write a detailed blog on the title --> {title}  using following outline \\n {outline}'\n",
    "    content=groq.invoke(prompt)\n",
    "    \n",
    "    #update state\n",
    "    state['content']=content\n",
    "    return state"
   ]
  },
  {
   "cell_type": "code",
   "execution_count": 84,
   "id": "7867c2d7",
   "metadata": {},
   "outputs": [
    {
     "data": {
      "image/png": "[encoded data removed]",
      "text/plain": [
       "<langgraph.graph.state.CompiledStateGraph object at 0x000001D10D09C0E0>"
      ]
     },
     "execution_count": 84,
     "metadata": {},
     "output_type": "execute_result"
    }
   ],
   "source": [
    "from token import STAR\n",
    "\n",
    "\n",
    "graph=StateGraph(BlogState)\n",
    "\n",
    "#nodes\n",
    "graph.add_node('create_outline',create_outline)\n",
    "graph.add_node('create_blog',create_blog)\n",
    "\n",
    "graph.add_edge(START,'create_outline')\n",
    "graph.add_edge('create_outline','create_blog')\n",
    "graph.add_edge('create_blog',END)\n",
    "\n",
    "workflow=graph.compile()\n",
    "workflow"
   ]
  },
  {
   "cell_type": "code",
   "execution_count": 90,
   "id": "8d8abebe",
   "metadata": {},
   "outputs": [
    {
     "name": "stdout",
     "output_type": "stream",
     "text": [
      "{content: content='The Rise of AI in India – From Policy to Practice  \\nA 360- ↪\n",
      "\n",
      "↪ degree tour of how the world’s most populous democracy is turning algorithms ↪\n",
      "\n",
      "↪  into public goods, profits, and power.\\n\\n1. Hook & Context  \\n“India’s AI  ↪\n",
      "\n",
      "↪ market will touch $7.8 billion by 2025—more than the GDP of 50 countries.”   ↪\n",
      "\n",
      "↪ \\nThat single NASSCOM projection is why boardrooms from Boston to Beijing ar ↪\n",
      "\n",
      "↪ e penciling in “India” on their AI roadmaps. While the US and China hog head ↪\n",
      "\n",
      "↪ lines, India is quietly assembling the largest triad of data, developers, an ↪\n",
      "\n",
      "↪ d democratic intent on the planet. Miss this story and you miss the next dec ↪\n",
      "\n",
      "↪ ade of global tech.\\n\\n2. A Brief History of AI in India  \\n1980s–2000s: The ↪\n",
      "\n",
      "↪  Lab Years  \\n• IIT-Kanpur’s first AI course (1984) and the iconic “Fifth Ge ↪\n",
      "\n",
      "↪ neration Computer Systems” project at CDAC.  \\n• Infosys & Wipro sell rule-b ↪\n",
      "\n",
      "↪ ased automation to Y2K clients—India’s first AI exports are really expert-sy ↪\n",
      "\n",
      "↪ stems maintenance.\\n\\n2010–2017: Data, Data Everywhere  \\n• Aadhaar enrolls  ↪\n",
      "\n",
      "↪ 1 billion residents; suddenly every startup has a 12-digit key to identity.  ↪\n",
      "\n",
      "↪  \\n• Mad Street Den (Chennai) and Flutura (Bengaluru) prove Indian founders  ↪\n",
      "\n",
      "↪ can build core AI IP, not just body-shopping.\\n\\n2018–2021: Government Joins ↪\n",
      "\n",
      "↪  the Chat  \\n• NITI Aayog releases #AIforAll—India’s first national strategy ↪\n",
      "\n",
      "↪ .  \\n• The phrase “AI for social good” enters Budget speeches and PowerPoint ↪\n",
      "\n",
      "↪  decks.\\n\\n3. Government as Catalyst  \\nNational AI Strategy (2018)  \\nFive  ↪\n",
      "\n",
      "↪ focus sectors—healthcare, agriculture, education, smart cities, mobility—anc ↪\n",
      "\n",
      "↪ hored by a two-tier research spine:  \\nTier-1: INAI (Indian National AI) hub ↪\n",
      "\n",
      "↪ s at IIT-Madras, IIIT-Hyderabad, IIT-Kharagpur.  \\nTier-2: 15 MeitY-NASSCOM  ↪\n",
      "\n",
      "↪ Centers of Excellence in Jaipur, Visakhapatnam, Guwahati, etc.\\n\\nDigital Pu ↪\n",
      "\n",
      "↪ blic Goods as Rocket Fuel  \\nAadhaar → identity layer  \\nUPI → payments laye ↪\n",
      "\n",
      "↪ r  \\nAccount Aggregator → consent layer  \\nTogether they generate 50 PB of s ↪\n",
      "\n",
      "↪ tructured, labeled data—every product manager’s dream.\\n\\nBudget 2023–24  \\n ↪\n",
      "\n",
      "↪ ₹1,000-crore “AI Research, Analytics & Knowledge Assimilation” fund—India’s  ↪\n",
      "\n",
      "↪ first sovereign AI purse modeled after the US NSF.\\n\\nRegulation: Light-Touc ↪\n",
      "\n",
      "↪ h or Risk-Based?  \\nDraft Digital India Act 2023 proposes “risk-scaled oblig ↪\n",
      "\n",
      "↪ ations” for high-impact AI systems, but leaves sandboxing windows open for s ↪\n",
      "\n",
      "↪ tart-ups.\\n\\n4. Private-Sector Surge  \\nIT Majors Pivot  \\n• TCS launches “T ↪\n",
      "\n",
      "↪ CS.ai” suite—claims 250,000 employees reskilled.  \\n• Infosys Topaz and Wipr ↪\n",
      "\n",
      "↪ o ai360 ink hyperscaler partnerships with AWS, Azure, Google Cloud.\\n\\nGloba ↪\n",
      "\n",
      "↪ l Capability Centers (GCCs)  \\n1,500+ GCCs now employ 1.3 million Indians; 3 ↪\n",
      "\n",
      "↪ 0% run core AI R&D for the Fortune 500. JPMorgan’s Mumbai AI hub writes loan ↪\n",
      "\n",
      "↪ -underwriting models that serve New York in real time.\\n\\nUnicorns & Soonico ↪\n",
      "\n",
      "↪ rns  \\n• Fractal Analytics (IPO-bound, $4 B valuation)  \\n• Innovaccer (heal ↪\n",
      "\n",
      "↪ thcare data platform, $3.2 B)  \\n• Gupshup (conversational AI, $1.4 B)  \\n•  ↪\n",
      "\n",
      "↪ Ola Krutrim—India’s first LLM unicorn (₹2,000 crore seed round, 2024)\\n\\nVC  ↪\n",
      "\n",
      "↪ Funding  \\n2022: $4.3 B across 300 deals  \\n2023: $2.1 B—cooling, but still  ↪\n",
      "\n",
      "↪ 3× 2019 levels. Investors now demand revenue, not just GitHub stars.\\n\\n5. A ↪\n",
      "\n",
      "↪ I in Public Services & Social Impact  \\nHealthcare  \\nQure.ai’s qXR screens  ↪\n",
      "\n",
      "↪ 7 million chest X-rays for TB in Bihar alone. Forus Health’s 3Nethra retinal ↪\n",
      "\n",
      "↪  camera detects diabetic blindness at ₹40 per scan.\\n\\nAgriculture  \\nMicros ↪\n",
      "\n",
      "↪ oft’s “Sowing App” + ICRISAT data pushed groundnut yields up 30% in Andhra P ↪\n",
      "\n",
      "↪ radesh. AgNext uses hyperspectral imaging to grade tea quality in Assam esta ↪\n",
      "\n",
      "↪ tes.\\n\\nLanguage Inclusion  \\nBhashini (MeitY) crowdsources 1.2 million hour ↪\n",
      "\n",
      "↪ s of Indic speech; AI4Bharat’s open-source LLMs power Tamil Wikipedia bots a ↪\n",
      "\n",
      "↪ nd Malayalam e-governance portals.\\n\\nSmart Cities  \\nSurat’s adaptive traff ↪\n",
      "\n",
      "↪ ic lights cut peak-hour jams by 24%. Bengaluru’s BBMP uses AI-based flood fo ↪\n",
      "\n",
      "↪ recasting with ISRO satellite imagery—citizens get WhatsApp alerts 6 hours b ↪\n",
      "\n",
      "↪ efore waterlogging.\\n\\n6. Deep-Tech Start-ups to Watch  \\nAgnikul (Chennai)  ↪\n",
      "\n",
      "↪ – ' additional_kwargs={} response_metadata={'token_usage': {'completion_toke ↪\n",
      "\n",
      "↪ ns': 1024, 'prompt_tokens': 1293, 'total_tokens': 2317}, 'model_name': 'moon ↪\n",
      "\n",
      "↪ shotai/Kimi-K2-Instruct', 'system_fingerprint': '', 'finish_reason': 'length ↪\n",
      "\n",
      "↪ ', 'logprobs': None} id='run--f7f20ae0-80c9-462c-a060-3d2155ac3df7-0' usage_ ↪\n",
      "\n",
      "↪ metadata={'input_tokens': 1293, 'output_tokens': 1024, 'total_tokens': 2317} ↪\n",
      "\n",
      "↪ , outline: content='Blog Outline: “The Rise of AI in India – From Policy to  ↪\n",
      "\n",
      "↪ Practice”\\n\\n1. Hook & Context  \\n   • Startling stat: India’s AI market pro ↪\n",
      "\n",
      "↪ jected to hit $7.8 B by 2025 (NASSCOM).  \\n   • Global AI race backdrop—why  ↪\n",
      "\n",
      "↪ India’s story matters.\\n\\n2. A Brief History of AI in India  \\n   • 1980s–20 ↪\n",
      "\n",
      "↪ 00s: Academic labs (IITs, IISc) and early IT services.  \\n   • 2010–2017: Bi ↪\n",
      "\n",
      "↪ g-data analytics boom, first AI start-ups (Mad Street Den, Flutura).  \\n   • ↪\n",
      "\n",
      "↪  2018–2021: Government wakes up—NITI Aayog’s #AIforAll strategy.\\n\\n3. Gover ↪\n",
      "\n",
      "↪ nment as Catalyst  \\n   • National AI Strategy (2018) – five focus sectors,  ↪\n",
      "\n",
      "↪ two-tier research structure.  \\n   • Digital India stack: Aadhaar, UPI, Acco ↪\n",
      "\n",
      "↪ unt Aggregator—fuel for AI.  \\n   • MeitY & NASSCOM Centers of Excellence (C ↪\n",
      "\n",
      "↪ oEs) in 15 cities.  \\n   • Budget 2023–24: ₹1,000-crore “AI Research, Analyt ↪\n",
      "\n",
      "↪ ics & Knowledge Assimilation” fund.  \\n   • Draft Digital India Act 2023—lig ↪\n",
      "\n",
      "↪ ht-touch vs. risk-based regulation debate.\\n\\n4. Private-Sector Surge  \\n    ↪\n",
      "\n",
      "↪ • IT majors pivot: TCS, Infosys, Wipro AI suites & hyperscaler partnerships. ↪\n",
      "\n",
      "↪   \\n   • Global Capability Centers (GCCs): 1,500+ centers, 30% now doing cor ↪\n",
      "\n",
      "↪ e AI R&D.  \\n   • Unicorns & soonicorns: Fractal, Innovaccer, Gupshup, Zoho’ ↪\n",
      "\n",
      "↪ s Zia, Ola Krutrim.  \\n   • VC funding trends: $4.3 B in 2022, cooling in 20 ↪\n",
      "\n",
      "↪ 23—what it means.\\n\\n5. AI in Public Services & Social Impact  \\n   • Health ↪\n",
      "\n",
      "↪ care: AI-driven TB screening (Qure.ai), diabetic retinopathy (Forus Health). ↪\n",
      "\n",
      "↪   \\n   • Agriculture: Microsoft’s “Sowing App,” AgNext, crop-yield predictio ↪\n",
      "\n",
      "↪ n via satellite.  \\n   • Language inclusion: Bhashini, AI4Bharat open-source ↪\n",
      "\n",
      "↪  Indic LLMs.  \\n   • Smart Cities & Traffic: Surat & Bengaluru adaptive traf ↪\n",
      "\n",
      "↪ fic lights, flood forecasting.\\n\\n6. Deep-Tech Start-ups to Watch  \\n   • 3D ↪\n",
      "\n",
      "↪  computer vision: Agnikul (aerospace), Ati Motors (industrial bots).  \\n   • ↪\n",
      "\n",
      "↪  Generative AI: Sarvam, CoRover, Krutrim.  \\n   • Edge AI: AlphaICs, Saankhy ↪\n",
      "\n",
      "↪ a Labs.  \\n   • Quick founder interviews or quotes.\\n\\n7. Talent & Education ↪\n",
      "\n",
      "↪  Pipeline  \\n   • 1.6 M engineers graduate yearly; only 2–3% AI-ready—skill  ↪\n",
      "\n",
      "↪ gap reality.  \\n   • IIT-Madras’ B.Tech in AI & Data Science, AICTE’s model  ↪\n",
      "\n",
      "↪ curriculum.  \\n   • Upskilling wave: upGrad, Simplilearn, Coursera India enr ↪\n",
      "\n",
      "↪ ollments.  \\n   • K-12 initiatives: Atal Tinkering Labs, Responsible AI for  ↪\n",
      "\n",
      "↪ Youth program.\\n\\n8. Infrastructure & Compute  \\n   • IndiaAI Datasets Platf ↪\n",
      "\n",
      "↪ orm—open, anonymized, multilingual.  \\n   • Common Compute “AIRAWAT” superco ↪\n",
      "\n",
      "↪ mputer (PSU + NVIDIA) – 8.5 petaflops.  \\n   • Cloud price wars: AWS, Azure, ↪\n",
      "\n",
      "↪  GCP local data centers; sovereign cloud push.\\n\\n9. Ethics, Bias & Regulati ↪\n",
      "\n",
      "↪ on  \\n   • Facial-recognition debates: Hyderabad & Delhi police deployments. ↪\n",
      "\n",
      "↪   \\n   • DPDP Act 2023 interplay with AI.  \\n   • Proposed “Algorithmic Acco ↪\n",
      "\n",
      "↪ untability Framework” – risk tiers, sandboxing.  \\n   • Industry self-regula ↪\n",
      "\n",
      "↪ tion: NASSCOM Responsible AI guidelines.\\n\\n10. Challenges on the Ground  \\n ↪\n",
      "\n",
      "↪     • Data quality & localization.  \\n    • Talent flight to Silicon Valley. ↪\n",
      "\n",
      "↪   \\n    • Funding winter & long gestation of deep tech.  \\n    • Infrastruct ↪\n",
      "\n",
      "↪ ure gaps in Tier-2/3 cities.\\n\\n11. Future Outlook (2024–2030)  \\n    • 100- ↪\n",
      "\n",
      "↪ plus LLMs fine-tuned for Indic languages.  \\n    • AI-as-a-Service exports t ↪\n",
      "\n",
      "↪ o rival IT services ($50 B target).  \\n    • Quantum-AI hybrid research labs ↪\n",
      "\n",
      "↪  (DST + IBM).  \\n    • Scenario planning: “AI-as-Public-Good” vs. “AI-as-Str ↪\n",
      "\n",
      "↪ ategic-Asset.”\\n\\n12. Actionable Takeaways for Readers  \\n    • For students ↪\n",
      "\n",
      "↪ : roadmap to AI career in India.  \\n    • For founders: grants, accelerators ↪\n",
      "\n",
      "↪ , and government schemes checklist.  \\n    • For policymakers: metrics to tr ↪\n",
      "\n",
      "↪ ack inclusive AI growth.\\n\\n13. Conclusion  \\n    • India’s AI moment is not ↪\n",
      "\n",
      "↪  a hype cycle—it’s a structural shift.  \\n    • Call to action: collaborate  ↪\n",
      "\n",
      "↪ across academia, industry, and government to' additional_kwargs={} response_ ↪\n",
      "\n",
      "↪ metadata={'token_usage': {'completion_tokens': 1024, 'prompt_tokens': 18, 't ↪\n",
      "\n",
      "↪ otal_tokens': 1042}, 'model_name': 'moonshotai/Kimi-K2-Instruct', 'system_fi ↪\n",
      "\n",
      "↪ ngerprint': '', 'finish_reason': 'length', 'logprobs': None} id='run--5eab70 ↪\n",
      "\n",
      "↪ e6-17df-44e1-9d32-baf493f09d08-0' usage_metadata={'input_tokens': 18, 'outpu ↪\n",
      "\n",
      "↪ t_tokens': 1024, 'total_tokens': 1042}, title: Rise of AI in India}\n"
     ]
    }
   ],
   "source": [
    "from sympy import pretty_print\n",
    "\n",
    "\n",
    "intial_state={'title':'Rise of AI in India'}\n",
    "final_state=workflow.invoke(intial_state)\n",
    "pretty_print(final_state)"
   ]
  },
  {
   "cell_type": "code",
   "execution_count": 89,
   "id": "18d8dbf2",
   "metadata": {},
   "outputs": [
    {
     "name": "stdout",
     "output_type": "stream",
     "text": [
      "==================================\u001b[1m Ai Message \u001b[0m==================================\n",
      "\n",
      "The Rise of AI in India – From Policy to Practice  \n",
      "A 360-degree tour of how the world’s most populous country is turning algorithms into impact\n",
      "\n",
      "--------------------------------------------------------------------\n",
      "1. Hook & Context  \n",
      "--------------------------------------------------------------------\n",
      "“₹17 billion by 2030” is no longer a headline pulled from a consulting deck—it is NASSCOM’s latest projection for India’s artificial-intelligence market. To put that in perspective, the figure is larger than the GDP of 50+ countries today.  \n",
      "\n",
      "But what exactly is “AI in India” in 2024? It is not a single monolithic stack. It is:  \n",
      "• 1,300+ start-ups from Bengaluru to Bhubaneswar hacking on LLMs and computer-vision APIs.  \n",
      "• Government departments using predictive models to route PDS trucks and detect TB in chest X-rays.  \n",
      "• Global captives—Google Research India, Microsoft IDC, AWS Hyderabad—shipping features that power half the planet.  \n",
      "• IITs and AIIMS running joint labs where PhDs annotate retinal scans in the morning and publish in Nature Medicine by night.  \n",
      "\n",
      "--------------------------------------------------------------------\n",
      "2. Historical Backdrop  \n",
      "--------------------------------------------------------------------\n",
      "2.1 Early Days (1985-2010)  \n",
      "• 1986: IIT Kanpur sets up the country’s first AI lab with a Symbolics Lisp machine.  \n",
      "• 1991: CDAC rolls out PARAM super-computers; neural-network research quietly funded by DRDO.  \n",
      "• Y2K services boom creates a generation of coders who will later pivot from “maintenance” to “machine learning.”  \n",
      "\n",
      "2.2 Inflection Point (2010-2018)  \n",
      "• 2011: Smartphone shipments cross 10 M units → data exhaust begins.  \n",
      "• 2013: Flipkart’s “Project M” uses gradient-boosting to rank search results; Ola builds ETA prediction; Paytm experiments with fraud-detection trees.  \n",
      "• 2016: Demonetisation → UPI → digital trails → AI training sets.  \n",
      "\n",
      "2.3 Policy Trigger (2018-2021)  \n",
      "• 2018: NITI Aayog releases #AIforAll; MeitY forms four task-forces.  \n",
      "• 2020: COVID-19 sparks MyGov Corona-Chatbot and contact-tracing APIs.  \n",
      "• 2021: IndiaAI portal goes live; draft National Data Governance Framework floated.\n",
      "\n",
      "--------------------------------------------------------------------\n",
      "3. Government as Catalyst  \n",
      "--------------------------------------------------------------------\n",
      "3.1 National AI Strategy (2018) – five pillars  \n",
      "1. Skilling & reskilling  \n",
      "2. R&D and grand-challenge grants  \n",
      "3. Data availability & standards  \n",
      "4. Compute & IP infrastructure  \n",
      "5. Ethics, privacy, security  \n",
      "\n",
      "3.2 Budget Line Items  \n",
      "• 2023-24: ₹10,300 crore earmarked for AI, quantum, 5G, and robotics.  \n",
      "• 2024-25: ₹2,000 crore seed fund for “AI Foundry” announced in Interim Budget.  \n",
      "\n",
      "3.3 Digital Public Goods as Training Data Goldmines  \n",
      "• Aadhaar: 1.3 B biometric identities → de-identified face datasets for liveness detection.  \n",
      "• UPI: 13 B monthly transactions → fraud-detection models.  \n",
      "• Account Aggregator: 1.1 B financial data points → credit-underwriting APIs.  \n",
      "\n",
      "3.4 AI Hubs & Centers of Excellence  \n",
      "• Three national CoEs (health, agriculture, sustainable cities) anchored at IITs.  \n",
      "• Seven AIIMS hospitals now host AI labs for radiology, oncology, and genomics.  \n",
      "\n",
      "3.5 Regulation & Ethics  \n",
      "• Draft Digital India Act (2023) proposes risk-based classification:  \n",
      "  – Minimal risk: spam filters  \n",
      "  – Limited risk: chatbots (disclosure required)  \n",
      "  – High risk: credit scoring, medical devices (audit & sandbox)  \n",
      "  – Unacceptable risk: social scoring, real-time facial recognition in public spaces (banned)\n",
      "\n",
      "--------------------------------------------------------------------\n",
      "4. Private-Sector Surge  \n",
      "--------------------------------------------------------------------\n",
      "4.1 Start-up Map (Tracxn 2024)  \n",
      "Top 10 by total funding (equity + debt):  \n",
      "1. Fractal Analytics – $685 M  \n",
      "2. Innovaccer – $375 M  \n",
      "3. Mad Street Den – $125 M  \n",
      "4. SigTuple – $48 M  \n",
      "5. AgNext – $35 M  \n",
      "6. Qure.ai – $31 M  \n",
      "7. CropIn – $30 M  \n",
      "8. Yellow.ai – $102 M (conversational AI)  \n",
      "9. Uniphore – $620 M (voice AI)  \n",
      "10. Observe.ai – $214 M (call-center analytics)  \n",
      "\n",
      "4.2 Global Captives  \n",
      "• Google Research India: 300 researchers, Bharat-LLM team, flood-forecasting models.  \n",
      "• Microsoft IDC: Azure AI Cognitive Services, Indic-BERT.  \n",
      "• AWS Hyderabad: Sage\n"
     ]
    }
   ],
   "source": [
    "final_state['content'].pretty_print()"
   ]
  },
  {
   "cell_type": "code",
   "execution_count": 2,
   "id": "b37104dc",
   "metadata": {},
   "outputs": [
    {
     "name": "stdout",
     "output_type": "stream",
     "text": [
      "Collecting langchain_tavilyNote: you may need to restart the kernel to use updated packages.\n",
      "\n",
      "  Downloading langchain_tavily-0.2.11-py3-none-any.whl.metadata (22 kB)\n",
      "Collecting aiohttp<4.0.0,>=3.11.14 (from langchain_tavily)\n",
      "  Downloading aiohttp-3.12.15-cp312-cp312-win_amd64.whl.metadata (7.9 kB)\n",
      "Requirement already satisfied: langchain<0.4.0,>=0.3.20 in c:\\users\\niraj\\anaconda3\\lib\\site-packages (from langchain_tavily) (0.3.27)\n",
      "Requirement already satisfied: langchain-core<0.4.0,>=0.3.15 in c:\\users\\niraj\\anaconda3\\lib\\site-packages (from langchain_tavily) (0.3.74)\n",
      "Requirement already satisfied: requests<3.0.0,>=2.32.3 in c:\\users\\niraj\\anaconda3\\lib\\site-packages (from langchain_tavily) (2.32.3)\n",
      "Collecting aiohappyeyeballs>=2.5.0 (from aiohttp<4.0.0,>=3.11.14->langchain_tavily)\n",
      "  Downloading aiohappyeyeballs-2.6.1-py3-none-any.whl.metadata (5.9 kB)\n",
      "Collecting aiosignal>=1.4.0 (from aiohttp<4.0.0,>=3.11.14->langchain_tavily)\n",
      "  Downloading aiosignal-1.4.0-py3-none-any.whl.metadata (3.7 kB)\n",
      "Requirement already satisfied: attrs>=17.3.0 in c:\\users\\niraj\\anaconda3\\lib\\site-packages (from aiohttp<4.0.0,>=3.11.14->langchain_tavily) (23.1.0)\n",
      "Requirement already satisfied: frozenlist>=1.1.1 in c:\\users\\niraj\\anaconda3\\lib\\site-packages (from aiohttp<4.0.0,>=3.11.14->langchain_tavily) (1.4.0)\n",
      "Requirement already satisfied: multidict<7.0,>=4.5 in c:\\users\\niraj\\anaconda3\\lib\\site-packages (from aiohttp<4.0.0,>=3.11.14->langchain_tavily) (6.0.4)\n",
      "Collecting propcache>=0.2.0 (from aiohttp<4.0.0,>=3.11.14->langchain_tavily)\n",
      "  Downloading propcache-0.3.2-cp312-cp312-win_amd64.whl.metadata (12 kB)\n",
      "Collecting yarl<2.0,>=1.17.0 (from aiohttp<4.0.0,>=3.11.14->langchain_tavily)\n",
      "  Downloading yarl-1.20.1-cp312-cp312-win_amd64.whl.metadata (76 kB)\n",
      "Requirement already satisfied: langchain-text-splitters<1.0.0,>=0.3.9 in c:\\users\\niraj\\anaconda3\\lib\\site-packages (from langchain<0.4.0,>=0.3.20->langchain_tavily) (0.3.9)\n",
      "Requirement already satisfied: langsmith>=0.1.17 in c:\\users\\niraj\\anaconda3\\lib\\site-packages (from langchain<0.4.0,>=0.3.20->langchain_tavily) (0.4.8)\n",
      "Requirement already satisfied: pydantic<3.0.0,>=2.7.4 in c:\\users\\niraj\\anaconda3\\lib\\site-packages (from langchain<0.4.0,>=0.3.20->langchain_tavily) (2.8.2)\n",
      "Requirement already satisfied: SQLAlchemy<3,>=1.4 in c:\\users\\niraj\\anaconda3\\lib\\site-packages (from langchain<0.4.0,>=0.3.20->langchain_tavily) (2.0.34)\n",
      "Requirement already satisfied: PyYAML>=5.3 in c:\\users\\niraj\\anaconda3\\lib\\site-packages (from langchain<0.4.0,>=0.3.20->langchain_tavily) (6.0.1)\n",
      "Requirement already satisfied: tenacity!=8.4.0,<10.0.0,>=8.1.0 in c:\\users\\niraj\\anaconda3\\lib\\site-packages (from langchain-core<0.4.0,>=0.3.15->langchain_tavily) (8.2.3)\n",
      "Requirement already satisfied: jsonpatch<2.0,>=1.33 in c:\\users\\niraj\\anaconda3\\lib\\site-packages (from langchain-core<0.4.0,>=0.3.15->langchain_tavily) (1.33)\n",
      "Requirement already satisfied: typing-extensions>=4.7 in c:\\users\\niraj\\anaconda3\\lib\\site-packages (from langchain-core<0.4.0,>=0.3.15->langchain_tavily) (4.14.1)\n",
      "Requirement already satisfied: packaging>=23.2 in c:\\users\\niraj\\anaconda3\\lib\\site-packages (from langchain-core<0.4.0,>=0.3.15->langchain_tavily) (24.1)\n",
      "Requirement already satisfied: jsonpointer>=1.9 in c:\\users\\niraj\\anaconda3\\lib\\site-packages (from jsonpatch<2.0,>=1.33->langchain-core<0.4.0,>=0.3.15->langchain_tavily) (2.1)\n",
      "Requirement already satisfied: annotated-types>=0.4.0 in c:\\users\\niraj\\anaconda3\\lib\\site-packages (from pydantic<3.0.0,>=2.7.4->langchain<0.4.0,>=0.3.20->langchain_tavily) (0.6.0)\n",
      "Requirement already satisfied: pydantic-core==2.20.1 in c:\\users\\niraj\\anaconda3\\lib\\site-packages (from pydantic<3.0.0,>=2.7.4->langchain<0.4.0,>=0.3.20->langchain_tavily) (2.20.1)\n",
      "Requirement already satisfied: charset-normalizer<4,>=2 in c:\\users\\niraj\\anaconda3\\lib\\site-packages (from requests<3.0.0,>=2.32.3->langchain_tavily) (3.3.2)\n",
      "Requirement already satisfied: idna<4,>=2.5 in c:\\users\\niraj\\anaconda3\\lib\\site-packages (from requests<3.0.0,>=2.32.3->langchain_tavily) (3.7)\n",
      "Requirement already satisfied: urllib3<3,>=1.21.1 in c:\\users\\niraj\\anaconda3\\lib\\site-packages (from requests<3.0.0,>=2.32.3->langchain_tavily) (2.2.3)\n",
      "Requirement already satisfied: certifi>=2017.4.17 in c:\\users\\niraj\\anaconda3\\lib\\site-packages (from requests<3.0.0,>=2.32.3->langchain_tavily) (2025.7.14)\n",
      "Requirement already satisfied: greenlet!=0.4.17 in c:\\users\\niraj\\anaconda3\\lib\\site-packages (from SQLAlchemy<3,>=1.4->langchain<0.4.0,>=0.3.20->langchain_tavily) (3.2.3)\n",
      "Requirement already satisfied: httpx<1,>=0.23.0 in c:\\users\\niraj\\anaconda3\\lib\\site-packages (from langsmith>=0.1.17->langchain<0.4.0,>=0.3.20->langchain_tavily) (0.27.0)\n",
      "Requirement already satisfied: orjson<4.0.0,>=3.9.14 in c:\\users\\niraj\\anaconda3\\lib\\site-packages (from langsmith>=0.1.17->langchain<0.4.0,>=0.3.20->langchain_tavily) (3.11.0)\n",
      "Requirement already satisfied: requests-toolbelt<2.0.0,>=1.0.0 in c:\\users\\niraj\\anaconda3\\lib\\site-packages (from langsmith>=0.1.17->langchain<0.4.0,>=0.3.20->langchain_tavily) (1.0.0)\n",
      "Requirement already satisfied: zstandard<0.24.0,>=0.23.0 in c:\\users\\niraj\\anaconda3\\lib\\site-packages (from langsmith>=0.1.17->langchain<0.4.0,>=0.3.20->langchain_tavily) (0.23.0)\n",
      "Requirement already satisfied: anyio in c:\\users\\niraj\\anaconda3\\lib\\site-packages (from httpx<1,>=0.23.0->langsmith>=0.1.17->langchain<0.4.0,>=0.3.20->langchain_tavily) (4.2.0)\n",
      "Requirement already satisfied: httpcore==1.* in c:\\users\\niraj\\anaconda3\\lib\\site-packages (from httpx<1,>=0.23.0->langsmith>=0.1.17->langchain<0.4.0,>=0.3.20->langchain_tavily) (1.0.2)\n",
      "Requirement already satisfied: sniffio in c:\\users\\niraj\\anaconda3\\lib\\site-packages (from httpx<1,>=0.23.0->langsmith>=0.1.17->langchain<0.4.0,>=0.3.20->langchain_tavily) (1.3.0)\n",
      "Requirement already satisfied: h11<0.15,>=0.13 in c:\\users\\niraj\\anaconda3\\lib\\site-packages (from httpcore==1.*->httpx<1,>=0.23.0->langsmith>=0.1.17->langchain<0.4.0,>=0.3.20->langchain_tavily) (0.14.0)\n",
      "Downloading langchain_tavily-0.2.11-py3-none-any.whl (26 kB)\n",
      "Downloading aiohttp-3.12.15-cp312-cp312-win_amd64.whl (450 kB)\n",
      "Downloading yarl-1.20.1-cp312-cp312-win_amd64.whl (86 kB)\n",
      "Downloading aiohappyeyeballs-2.6.1-py3-none-any.whl (15 kB)\n",
      "Downloading aiosignal-1.4.0-py3-none-any.whl (7.5 kB)\n",
      "Downloading propcache-0.3.2-cp312-cp312-win_amd64.whl (41 kB)\n",
      "Installing collected packages: propcache, aiosignal, aiohappyeyeballs, yarl, aiohttp, langchain_tavily\n",
      "\n",
      "  Attempting uninstall: aiosignal\n",
      "\n",
      "    Found existing installation: aiosignal 1.2.0\n",
      "\n",
      "    Uninstalling aiosignal-1.2.0:\n",
      "\n",
      "      Successfully uninstalled aiosignal-1.2.0\n",
      "\n",
      "  Attempting uninstall: aiohappyeyeballs\n",
      "\n",
      "    Found existing installation: aiohappyeyeballs 2.4.0\n",
      "\n",
      "   ------------- -------------------------- 2/6 [aiohappyeyeballs]\n",
      "    Uninstalling aiohappyeyeballs-2.4.0:\n",
      "   ------------- -------------------------- 2/6 [aiohappyeyeballs]\n",
      "      Successfully uninstalled aiohappyeyeballs-2.4.0\n",
      "   ------------- -------------------------- 2/6 [aiohappyeyeballs]\n",
      "  Attempting uninstall: yarl\n",
      "   ------------- -------------------------- 2/6 [aiohappyeyeballs]\n",
      "    Found existing installation: yarl 1.11.0\n",
      "   ------------- -------------------------- 2/6 [aiohappyeyeballs]\n",
      "    Uninstalling yarl-1.11.0:\n",
      "   ------------- -------------------------- 2/6 [aiohappyeyeballs]\n",
      "   -------------------- ------------------- 3/6 [yarl]\n",
      "      Successfully uninstalled yarl-1.11.0\n",
      "   -------------------- ------------------- 3/6 [yarl]\n",
      "  Attempting uninstall: aiohttp\n",
      "   -------------------- ------------------- 3/6 [yarl]\n",
      "    Found existing installation: aiohttp 3.10.5\n",
      "   -------------------- ------------------- 3/6 [yarl]\n",
      "   -------------------------- ------------- 4/6 [aiohttp]\n",
      "    Uninstalling aiohttp-3.10.5:\n",
      "   -------------------------- ------------- 4/6 [aiohttp]\n",
      "      Successfully uninstalled aiohttp-3.10.5\n",
      "   -------------------------- ------------- 4/6 [aiohttp]\n",
      "   -------------------------- ------------- 4/6 [aiohttp]\n",
      "   -------------------------- ------------- 4/6 [aiohttp]\n",
      "   -------------------------- ------------- 4/6 [aiohttp]\n",
      "   -------------------------- ------------- 4/6 [aiohttp]\n",
      "   ---------------------------------------- 6/6 [langchain_tavily]\n",
      "\n",
      "Successfully installed aiohappyeyeballs-2.6.1 aiohttp-3.12.15 aiosignal-1.4.0 langchain_tavily-0.2.11 propcache-0.3.2 yarl-1.20.1\n"
     ]
    }
   ],
   "source": [
    "pip install langchain_tavily"
   ]
  },
  {
   "cell_type": "code",
   "execution_count": 3,
   "id": "8db7dcc9",
   "metadata": {},
   "outputs": [
    {
     "ename": "ValidationError",
     "evalue": "1 validation error for TavilySearchAPIWrapper\n  Value error, Did not find tavily_api_key, please add an environment variable `TAVILY_API_KEY` which contains it, or pass `tavily_api_key` as a named parameter. [type=value_error, input_value={}, input_type=dict]\n    For further information visit https://errors.pydantic.dev/2.8/v/value_error",
     "output_type": "error",
     "traceback": [
      "\u001b[1;31m---------------------------------------------------------------------------\u001b[0m",
      "\u001b[1;31mValidationError\u001b[0m                           Traceback (most recent call last)",
      "Cell \u001b[1;32mIn[3], line 3\u001b[0m\n\u001b[0;32m      1\u001b[0m \u001b[38;5;28;01mfrom\u001b[39;00m \u001b[38;5;21;01mlangchain_tavily\u001b[39;00m \u001b[38;5;28;01mimport\u001b[39;00m TavilySearch\n\u001b[1;32m----> 3\u001b[0m tool\u001b[38;5;241m=\u001b[39m\u001b[43mTavilySearch\u001b[49m\u001b[43m(\u001b[49m\u001b[43mmax_results\u001b[49m\u001b[38;5;241;43m=\u001b[39;49m\u001b[38;5;241;43m2\u001b[39;49m\u001b[43m)\u001b[49m\n\u001b[0;32m      4\u001b[0m tool\u001b[38;5;241m.\u001b[39minvoke(\u001b[38;5;124m\"\u001b[39m\u001b[38;5;124mWhat is langgraph\u001b[39m\u001b[38;5;124m\"\u001b[39m)\n",
      "File \u001b[1;32mc:\\Users\\niraj\\anaconda3\\Lib\\site-packages\\langchain_tavily\\tavily_search.py:340\u001b[0m, in \u001b[0;36mTavilySearch.__init__\u001b[1;34m(self, **kwargs)\u001b[0m\n\u001b[0;32m    337\u001b[0m         wrapper_kwargs[\u001b[38;5;124m\"\u001b[39m\u001b[38;5;124mapi_base_url\u001b[39m\u001b[38;5;124m\"\u001b[39m] \u001b[38;5;241m=\u001b[39m kwargs[\u001b[38;5;124m\"\u001b[39m\u001b[38;5;124mapi_base_url\u001b[39m\u001b[38;5;124m\"\u001b[39m]\n\u001b[0;32m    338\u001b[0m     kwargs[\u001b[38;5;124m\"\u001b[39m\u001b[38;5;124mapi_wrapper\u001b[39m\u001b[38;5;124m\"\u001b[39m] \u001b[38;5;241m=\u001b[39m TavilySearchAPIWrapper(\u001b[38;5;241m*\u001b[39m\u001b[38;5;241m*\u001b[39mwrapper_kwargs)\n\u001b[1;32m--> 340\u001b[0m \u001b[38;5;28;43msuper\u001b[39;49m\u001b[43m(\u001b[49m\u001b[43m)\u001b[49m\u001b[38;5;241;43m.\u001b[39;49m\u001b[38;5;21;43m__init__\u001b[39;49m\u001b[43m(\u001b[49m\u001b[38;5;241;43m*\u001b[39;49m\u001b[38;5;241;43m*\u001b[39;49m\u001b[43mkwargs\u001b[49m\u001b[43m)\u001b[49m\n",
      "File \u001b[1;32mc:\\Users\\niraj\\anaconda3\\Lib\\site-packages\\langchain_core\\tools\\base.py:521\u001b[0m, in \u001b[0;36mBaseTool.__init__\u001b[1;34m(self, **kwargs)\u001b[0m\n\u001b[0;32m    516\u001b[0m     msg \u001b[38;5;241m=\u001b[39m (\n\u001b[0;32m    517\u001b[0m         \u001b[38;5;124m\"\u001b[39m\u001b[38;5;124margs_schema must be a subclass of pydantic BaseModel or \u001b[39m\u001b[38;5;124m\"\u001b[39m\n\u001b[0;32m    518\u001b[0m         \u001b[38;5;124mf\u001b[39m\u001b[38;5;124m\"\u001b[39m\u001b[38;5;124ma JSON schema dict. Got: \u001b[39m\u001b[38;5;132;01m{\u001b[39;00mkwargs[\u001b[38;5;124m'\u001b[39m\u001b[38;5;124margs_schema\u001b[39m\u001b[38;5;124m'\u001b[39m]\u001b[38;5;132;01m}\u001b[39;00m\u001b[38;5;124m.\u001b[39m\u001b[38;5;124m\"\u001b[39m\n\u001b[0;32m    519\u001b[0m     )\n\u001b[0;32m    520\u001b[0m     \u001b[38;5;28;01mraise\u001b[39;00m \u001b[38;5;167;01mTypeError\u001b[39;00m(msg)\n\u001b[1;32m--> 521\u001b[0m \u001b[38;5;28;43msuper\u001b[39;49m\u001b[43m(\u001b[49m\u001b[43m)\u001b[49m\u001b[38;5;241;43m.\u001b[39;49m\u001b[38;5;21;43m__init__\u001b[39;49m\u001b[43m(\u001b[49m\u001b[38;5;241;43m*\u001b[39;49m\u001b[38;5;241;43m*\u001b[39;49m\u001b[43mkwargs\u001b[49m\u001b[43m)\u001b[49m\n",
      "File \u001b[1;32mc:\\Users\\niraj\\anaconda3\\Lib\\site-packages\\langchain_core\\load\\serializable.py:130\u001b[0m, in \u001b[0;36mSerializable.__init__\u001b[1;34m(self, *args, **kwargs)\u001b[0m\n\u001b[0;32m    128\u001b[0m \u001b[38;5;28;01mdef\u001b[39;00m \u001b[38;5;21m__init__\u001b[39m(\u001b[38;5;28mself\u001b[39m, \u001b[38;5;241m*\u001b[39margs: Any, \u001b[38;5;241m*\u001b[39m\u001b[38;5;241m*\u001b[39mkwargs: Any) \u001b[38;5;241m-\u001b[39m\u001b[38;5;241m>\u001b[39m \u001b[38;5;28;01mNone\u001b[39;00m:\n\u001b[0;32m    129\u001b[0m \u001b[38;5;250m    \u001b[39m\u001b[38;5;124;03m\"\"\"\"\"\"\u001b[39;00m  \u001b[38;5;66;03m# noqa: D419\u001b[39;00m\n\u001b[1;32m--> 130\u001b[0m     \u001b[38;5;28;43msuper\u001b[39;49m\u001b[43m(\u001b[49m\u001b[43m)\u001b[49m\u001b[38;5;241;43m.\u001b[39;49m\u001b[38;5;21;43m__init__\u001b[39;49m\u001b[43m(\u001b[49m\u001b[38;5;241;43m*\u001b[39;49m\u001b[43margs\u001b[49m\u001b[43m,\u001b[49m\u001b[43m \u001b[49m\u001b[38;5;241;43m*\u001b[39;49m\u001b[38;5;241;43m*\u001b[39;49m\u001b[43mkwargs\u001b[49m\u001b[43m)\u001b[49m\n",
      "    \u001b[1;31m[... skipping hidden 1 frame]\u001b[0m\n",
      "File \u001b[1;32mc:\\Users\\niraj\\anaconda3\\Lib\\site-packages\\pydantic\\main.py:193\u001b[0m, in \u001b[0;36mBaseModel.__init__\u001b[1;34m(self, **data)\u001b[0m\n\u001b[0;32m    191\u001b[0m \u001b[38;5;66;03m# `__tracebackhide__` tells pytest and some other tools to omit this function from tracebacks\u001b[39;00m\n\u001b[0;32m    192\u001b[0m __tracebackhide__ \u001b[38;5;241m=\u001b[39m \u001b[38;5;28;01mTrue\u001b[39;00m\n\u001b[1;32m--> 193\u001b[0m \u001b[38;5;28;43mself\u001b[39;49m\u001b[38;5;241;43m.\u001b[39;49m\u001b[43m__pydantic_validator__\u001b[49m\u001b[38;5;241;43m.\u001b[39;49m\u001b[43mvalidate_python\u001b[49m\u001b[43m(\u001b[49m\u001b[43mdata\u001b[49m\u001b[43m,\u001b[49m\u001b[43m \u001b[49m\u001b[43mself_instance\u001b[49m\u001b[38;5;241;43m=\u001b[39;49m\u001b[38;5;28;43mself\u001b[39;49m\u001b[43m)\u001b[49m\n",
      "\u001b[1;31mValidationError\u001b[0m: 1 validation error for TavilySearchAPIWrapper\n  Value error, Did not find tavily_api_key, please add an environment variable `TAVILY_API_KEY` which contains it, or pass `tavily_api_key` as a named parameter. [type=value_error, input_value={}, input_type=dict]\n    For further information visit https://errors.pydantic.dev/2.8/v/value_error"
     ]
    }
   ],
   "source": [
    "from langchain_tavily import TavilySearch\n",
    "\n",
    "tool=TavilySearch(max_results=2)\n",
    "tool.invoke(\"What is langgraph\")"
   ]
  },
  {
   "cell_type": "code",
   "execution_count": null,
   "id": "20ce0547",
   "metadata": {},
   "outputs": [],
   "source": []
  }
 ],
 "metadata": {
  "kernelspec": {
   "display_name": "base",
   "language": "python",
   "name": "python3"
  },
  "language_info": {
   "codemirror_mode": {
    "name": "ipython",
    "version": 3
   },
   "file_extension": ".py",
   "mimetype": "text/x-python",
   "name": "python",
   "nbconvert_exporter": "python",
   "pygments_lexer": "ipython3",
   "version": "3.12.7"
  }
 },
 "nbformat": 4,
 "nbformat_minor": 5
}
