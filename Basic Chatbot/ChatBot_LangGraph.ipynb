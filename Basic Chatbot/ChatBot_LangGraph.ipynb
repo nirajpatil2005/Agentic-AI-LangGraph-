{
 "cells": [
  {
   "cell_type": "code",
   "execution_count": 2,
   "id": "0148416c",
   "metadata": {},
   "outputs": [],
   "source": [
    "from langgraph.graph import StateGraph,START,END\n",
    "from typing import Annotated,TypedDict\n",
    "from langchain_groq import ChatGroq\n",
    "from langchain_core.messages import BaseMessage,HumanMessage\n",
    "from dotenv import load_dotenv\n",
    "import os\n",
    "load_dotenv()\n",
    "groq_api=os.getenv(\"test_groq\")"
   ]
  },
  {
   "cell_type": "code",
   "execution_count": 4,
   "id": "031a2906",
   "metadata": {},
   "outputs": [],
   "source": [
    "model=ChatGroq(\n",
    "    api_key=groq_api,\n",
    "    model_name=\"openai/gpt-oss-20b\"\n",
    ")"
   ]
  },
  {
   "cell_type": "code",
   "execution_count": 6,
   "id": "e79b0e29",
   "metadata": {},
   "outputs": [],
   "source": [
    "from langgraph.graph.message import add_messages\n",
    "class ChatState(TypedDict):\n",
    "    messages:Annotated[list[BaseMessage],add_messages]"
   ]
  },
  {
   "cell_type": "code",
   "execution_count": 8,
   "id": "d018416e",
   "metadata": {},
   "outputs": [],
   "source": [
    "def chat_node(state:ChatState):\n",
    "    \n",
    "    messages=state['messages']\n",
    "    \n",
    "    response=model.invoke(messages)\n",
    "    \n",
    "    return {'messages':[response]}"
   ]
  },
  {
   "cell_type": "code",
   "execution_count": 10,
   "id": "be313dbe",
   "metadata": {},
   "outputs": [
    {
     "data": {
      "image/png": "[encoded data removed]",
      "text/plain": [
       "<langgraph.graph.state.CompiledStateGraph object at 0x000001CDC1DB0EC0>"
      ]
     },
     "execution_count": 10,
     "metadata": {},
     "output_type": "execute_result"
    }
   ],
   "source": [
    "graph=StateGraph(ChatState)\n",
    "\n",
    "graph.add_node('chat_node',chat_node)\n",
    "\n",
    "graph.add_edge(START,'chat_node')\n",
    "graph.add_edge('chat_node',END)\n",
    "workflow=graph.compile()\n",
    "workflow"
   ]
  },
  {
   "cell_type": "code",
   "execution_count": 11,
   "id": "b13a3205",
   "metadata": {},
   "outputs": [
    {
     "data": {
      "text/plain": [
       "{'messages': [HumanMessage(content='What is the capital of Argentina?', additional_kwargs={}, response_metadata={}, id='d6ef4e9d-e104-4508-a442-f4294645bdeb'),\n",
       "  AIMessage(content='The capital of Argentina is **Buenos Aires**.', additional_kwargs={'reasoning_content': 'We need to answer: capital of Argentina is Buenos Aires. Provide concise answer.'}, response_metadata={'token_usage': {'completion_tokens': 36, 'prompt_tokens': 78, 'total_tokens': 114, 'completion_time': 0.029978376, 'prompt_time': 0.005629995, 'queue_time': 0.054572155, 'total_time': 0.035608371}, 'model_name': 'openai/gpt-oss-20b', 'system_fingerprint': 'fp_fd68d84dd3', 'service_tier': 'on_demand', 'finish_reason': 'stop', 'logprobs': None}, id='run--48083544-c35f-4ffc-b4fe-b48acfe4a5fd-0', usage_metadata={'input_tokens': 78, 'output_tokens': 36, 'total_tokens': 114})]}"
      ]
     },
     "execution_count": 11,
     "metadata": {},
     "output_type": "execute_result"
    }
   ],
   "source": [
    "initial_state={\n",
    "    'messages':[HumanMessage(content=\"What is the capital of Argentina?\")]\n",
    "}\n",
    "workflow.invoke(initial_state)"
   ]
  },
  {
   "cell_type": "code",
   "execution_count": 17,
   "id": "6f5cc821",
   "metadata": {},
   "outputs": [
    {
     "data": {
      "text/plain": [
       "'The capital of Argentina is **Buenos Aires**.'"
      ]
     },
     "execution_count": 17,
     "metadata": {},
     "output_type": "execute_result"
    }
   ],
   "source": [
    "workflow.invoke(initial_state)['messages'][-1].content"
   ]
  },
  {
   "cell_type": "code",
   "execution_count": 18,
   "id": "01c734a5",
   "metadata": {},
   "outputs": [
    {
     "name": "stdout",
     "output_type": "stream",
     "text": [
      "User : can you teach me stats\n",
      "AI:  Absolutely! 🎓 Let’s build a solid, step‑by‑step foundation in statistics that’s tailored to your interests and goals. I’ll start with a quick “needs assessment” so we can focus on what matters most to you, then outline a beginner‑friendly roadmap. Feel free to jump in with questions or let me know if you want to dive deeper into any topic.\n",
      "\n",
      "---\n",
      "\n",
      "## 1. Quick Check‑In\n",
      "\n",
      "| Question | Why It Matters | Your Answer (optional) |\n",
      "|---------|---------------|------------------------|\n",
      "| **What’s your current experience?** (e.g., high school math, college, no background) | Helps gauge how much we need to build from scratch. |  |\n",
      "| **What’s the main reason you want to learn stats?** (e.g., data science, research, business, curiosity) | Lets us prioritize relevant topics. |  |\n",
      "| **Do you have a specific project or dataset you want to analyze?** | We can use real data for practice. |  |\n",
      "| **Preferred learning style?** (visual, hands‑on, theory‑heavy, etc.) | We’ll choose the best teaching tools. |  |\n",
      "| **Time commitment?** (e.g., 15 min/day, weekly sessions) | Sets realistic pacing. |  |\n",
      "\n",
      "> **Tip:** Even a quick “yes/no” or “short answer” helps me tailor the next steps.\n",
      "\n",
      "---\n",
      "\n",
      "## 2. The Big Picture of Statistics\n",
      "\n",
      "| Category | What It Covers | Why It’s Useful |\n",
      "|---------|---------------|----------------|\n",
      "| **Descriptive Statistics** | Mean, median, mode, spread (variance, SD), percentiles, graphs (histograms, boxplots) | Summarizes data in an intuitive way. |\n",
      "| **Probability Theory** | Random variables, distributions, expectations | Builds the foundation for inference. |\n",
      "| **Inferential Statistics** | Estimation, hypothesis testing, confidence intervals | Lets us draw conclusions about populations from samples. |\n",
      "| **Regression & Correlation** | Linear relationships, predictive modeling | Core to data science & many sciences. |\n",
      "| **Non‑Parametric & Bayesian Methods** | Rank‑based tests, Bayesian inference | Handles data that don’t fit normal assumptions. |\n",
      "\n",
      "---\n",
      "\n",
      "## 3. Beginner Roadmap (≈ 4–6 weeks)\n",
      "\n",
      "| Week | Focus | Key Topics | Mini‑Project / Practice |\n",
      "|------|------|-----------|------------------------|\n",
      "| **1** | *Descriptive Stats & Data Cleaning* | Mean, median, mode, SD, IQR, outliers, data types, cleaning basics. | Compute stats for a sample dataset (e.g., Titanic, Iris). |\n",
      "| **2** | *Probability Basics* | Random variables, PMF/PDF, expectation, variance, independence. | Simulate rolling dice or coin flips. |\n",
      "| **3** | *Introduction to Probability Distributions* | Binomial, Poisson, Normal, Central Limit Theorem. | Plot histograms vs theoretical curves. |\n",
      "| **4** | *Inference – Confidence Intervals* | Sampling distribution, t‑intervals, margin of error. | Estimate population mean from sample. |\n",
      "| **5** | *Inference – Hypothesis Tests* | Null/alternative, type I/II errors, z‑test, t‑test, chi‑square. | Test if two groups differ. |\n",
      "| **6** | *Regression & Correlation* | Simple linear regression, R², residuals. | Predict house price from size. |\n",
      "\n",
      "> **Note:** This is flexible. If you’re already comfortable with some parts, feel free to skip ahead.\n",
      "\n",
      "---\n",
      "\n",
      "## 4. Hands‑On Tools\n",
      "\n",
      "| Tool | What It Does | Why It’s Handy |\n",
      "|------|-------------|----------------|\n",
      "| **Python** (pandas, numpy, scipy, matplotlib) | Data manipulation, stats, plotting | Widely used in industry. |\n",
      "| **R** (tidyverse, ggplot2) | Statistical analysis & graphics | Strong community, especially for stats. |\n",
      "| **Excel** | Quick calculations, charts | Good for beginners. |\n",
      "| **Desmos / GeoGebra** | Visualizing functions & distributions | Great for conceptual learning. |\n",
      "\n",
      "> **Starter Kit**  \n",
      "> 1. Install Python (Anaconda is a one‑click bundle).  \n",
      "> 2. Open Jupyter Notebook → create a new notebook.  \n",
      "> 3. Load the Titanic dataset (`seaborn.load_dataset(\"titanic\")`).  \n",
      "> 4. Try computing the mean age: `titanic[\"age\"].mean()`.\n",
      "\n",
      "---\n",
      "\n",
      "## 5. Resources to Dive Deeper\n",
      "\n",
      "| Resource | Format | Level |\n",
      "|---------|-------|------|\n",
      "| **“Think Stats” by Allen B. Downey** | Book (free PDF) | Beginner‑intermediate |\n",
      "| **Khan Academy – Statistics & Probability** | Video lessons | Beginner |\n",
      "| **Coursera – Statistics with Python (University of Michigan)** | MOOC | Beginner‑intermediate |\n",
      "| **“Practical Statistics for Data Scientists”** | Book | Intermediate |\n",
      "| **R‑Studio Cloud** | Online IDE | All levels |\n",
      "\n",
      "---\n",
      "\n",
      "## 6. Next Steps\n",
      "\n",
      "1. **Answer the quick check‑in** so I can customize the plan.  \n",
      "2. Pick a **mini‑project** (e.g., analyze Titanic passengers).  \n",
      "3. Let’s schedule a **short 15‑minute Q&A** next week to review your progress and adjust the plan.\n",
      "\n",
      "---\n",
      "\n",
      "### Quick Exercise (Optional)\n",
      "\n",
      "**Compute the mean and standard deviation of the following data set**:  \n",
      "`[12, 15, 14, 10, 9, 16, 13, 20, 18, 12]`\n",
      "\n",
      "1. Write the formula for mean.  \n",
      "2. Calculate the mean.  \n",
      "3. Write the formula for SD (sample).  \n",
      "4. Calculate the SD.\n",
      "\n",
      "> **Tip:** Use `numpy.mean()` and `numpy.std(ddof=1)` in Python.\n",
      "\n",
      "---\n",
      "\n",
      "Looking forward to your answers! 🚀\n",
      "User : Hypothesis Testing\n",
      "AI:  ## Hypothesis Testing  –  A Quick‑Start Guide\n",
      "\n",
      "> **Short answer:**  \n",
      "> Hypothesis testing is a statistical framework that lets you decide, based on data, whether an observed effect is likely to be real (or just due to random chance). You set up two competing statements (the *null* and *alternative* hypotheses), collect data, compute a test statistic, and decide whether to reject the null.\n",
      "\n",
      "Below is a “cheat‑sheet” that covers the essentials, common tests, practical steps, and pitfalls.  \n",
      "Feel free to jump to the section that interests you most (e.g., “t‑test” or “ANOVA”) or let me know if you need a deeper dive into a specific test or real‑world example.\n",
      "\n",
      "---\n",
      "\n",
      "## 1. The Core Idea\n",
      "\n",
      "| Concept | What it means | Why it matters |\n",
      "|--------|--------------|---------------|\n",
      "| **Null hypothesis (H₀)** | The default assumption – often “no effect” or “no difference.” | Serves as the baseline you’re testing against. |\n",
      "| **Alternative hypothesis (H₁ / Hₐ)** | What you suspect or want to prove – e.g., an effect exists. | The statement you’ll support if evidence is strong enough. |\n",
      "| **Test statistic** | A number summarizing the data relative to H₀ (e.g., t‑statistic, chi‑square). | Allows you to quantify how surprising the data are under H₀. |\n",
      "| **P‑value** | Probability of observing data as extreme or more extreme than what you saw, assuming H₀ is true. | Small p‑values (≤α) suggest evidence against H₀. |\n",
      "| **Significance level (α)** | Threshold you choose (commonly 0.05, 0.01). | Controls the Type I error rate (false positives). |\n",
      "| **Decision rule** | Reject H₀ if p ≤ α; otherwise, do not reject. | Gives a binary outcome (“reject” / “fail to reject”). |\n",
      "\n",
      "> **Key takeaway:** Hypothesis testing is about *probabilities* – not certainties. Even a “significant” result still has a chance of being a false alarm.\n",
      "\n",
      "---\n",
      "\n",
      "## 2. The Five‑Step Workflow\n",
      "\n",
      "| Step | What you do | Typical output |\n",
      "|------|------------|---------------|\n",
      "| 1. **Define the question** | Write H₀ and Hₐ clearly. | `H0: μ = μ0` vs. `H1: μ ≠ μ0` (example). |\n",
      "| 2. **Choose the right test** | Match data type, distribution, and design. | t‑test, chi‑square, Mann–Whitney U, etc. |\n",
      "| 3. **Collect data & compute** | Gather samples, compute the test statistic. | `t = (x̄ - μ0)/(s/√n)`. |\n",
      "| 4. **Evaluate significance** | Compute p‑value, compare to α. | p = 0.003 < 0.05 → reject H₀. |\n",
      "| 5. **Interpret** | Translate statistical result into substantive meaning. | “The drug raises blood pressure by ~5 mmHg.” |\n",
      "\n",
      "---\n",
      "\n",
      "## 3. Common Tests & When to Use Them\n",
      "\n",
      "| Test | Typical data | Hypothesis form | Key assumptions |\n",
      "|------|-------------|----------------|----------------|\n",
      "| **One‑sample t‑test** | One numeric sample | H₀: μ = μ₀ | Normality (or large n), independent, equal variance |\n",
      "| **Two‑sample t‑test** | Two numeric samples | H₀: μ₁ = μ₂ | Normality, equal variances (or Welch’s version) |\n",
      "| **Paired t‑test** | Matched pairs | H₀: μ_dif = 0 | Normality of differences |\n",
      "| **Chi‑square goodness‑of‑fit** | Categorical counts | H₀: observed = expected | Expected counts ≥ 5 (roughly) |\n",
      "| **Chi‑square test of independence** | 2‑way contingency table | H₀: variables independent | Expected counts ≥ 5 |\n",
      "| **ANOVA (one‑way)** | Multiple groups | H₀: all μᵢ equal | Normality, equal variances, independence |\n",
      "| **Kruskal‑Wallis** | Non‑parametric ANOVA | H₀: same distribution | Ranks, independence |\n",
      "| **Correlation (Pearson)** | Two numeric variables | H₀: ρ = 0 | Normality of joint distribution |\n",
      "| **Linear regression** | Predictors → outcome | H₀: βj = 0 | Linear relationship, homoscedasticity, normal errors |\n",
      "| **Non‑parametric tests** (Mann‑Whitney, Kruskal‑Wallis) | Ranked data | H₀: distributions equal | No distributional assumptions |\n",
      "\n",
      "> **Tip:** When unsure, start with a parametric test if your data are roughly normal and you have enough observations; otherwise, go non‑parametric.\n",
      "\n",
      "---\n",
      "\n",
      "## 4. Practical Example: Two‑Sample t‑Test\n",
      "\n",
      "Suppose you want to know if a new fertilizer improves plant height compared to a standard fertilizer.\n",
      "\n",
      "| | Control | Fertilizer |\n",
      "|---|--------|-----------|\n",
      "| Sample size (n) | 30 | 30 |\n",
      "| Mean height (cm) | 45 | 52 |\n",
      "| SD | 5 | 6 |\n",
      "| H₀: μ_control = μ_fertilizer | H₁: μ_fertilizer > μ_control |\n",
      "\n",
      "1. **Compute pooled SD**  \n",
      "   \\( s_p = \\sqrt{ \\frac{(n_1-1)s_1^2 + (n_2-1)s_2^2}{n_1+n_2-2} } \\approx 5.6 \\)\n",
      "\n",
      "2. **t‑statistic**  \n",
      "   \\( t = \\frac{52-45}{s_p \\sqrt{\\frac{1}{30}+\\frac{1}{30}}} \\approx 5.07 \\)\n",
      "\n",
      "3. **Degrees of freedom**: 58  \n",
      "   p‑value ≈ 1.2 × 10⁻⁶\n",
      "\n",
      "4. **Decision**: p < 0.05 → reject H₀.  \n",
      "   **Interpretation**: The fertilizer significantly increases plant height.\n",
      "\n",
      "---\n",
      "\n",
      "## 5. Common Pitfalls & How to Avoid Them\n",
      "\n",
      "| Pitfall | What goes wrong | Fix |\n",
      "|---------|----------------|-----|\n",
      "| **Multiple testing** | Inflated Type I error | Use Bonferroni, Benjamini–Hochberg, or adjust α |\n",
      "| **Small sample sizes** | Normality assumption violated | Use non‑parametric tests or bootstrap |\n",
      "| **Ignoring effect size** | Only p‑value matters | Report Cohen’s d, η², or confidence intervals |\n",
      "| **Misinterpreting “fail to reject”** | Belief H₀ is true | Remember it’s “not enough evidence” |\n",
      "| **Cherry‑picking data** | Selective reporting | Pre‑register, use all data |\n",
      "| **Over‑reliance on p‑value** | p‑value ≠ evidence strength | Complement with Bayesian analysis or Bayesian factors |\n",
      "\n",
      "---\n",
      "\n",
      "## 6. Quick Code Snippets\n",
      "\n",
      "### Python (SciPy)\n",
      "\n",
      "```python\n",
      "import numpy as np\n",
      "from scipy import stats\n",
      "\n",
      "# Example data\n",
      "control = np.random.normal(45, 5, 30)\n",
      "fert = np.random.normal(52, 6, 30)\n",
      "\n",
      "t_stat, p_val = stats.ttest_ind(fert, control, equal_var=True)\n",
      "print(f\"t = {t_stat:.3f}, p = {p_val:.3e}\")\n",
      "```\n",
      "\n",
      "### R\n",
      "\n",
      "```r\n",
      "control <- rnorm(30, mean=45, sd=5)\n",
      "fert <- rnorm(30, mean=52, sd=6)\n",
      "\n",
      "t.test(fert, control, var.equal=TRUE)\n",
      "```\n",
      "\n",
      "---\n",
      "\n",
      "## 7. When to Seek Help\n",
      "\n",
      "- **Complex designs** (mixed models, hierarchical data).  \n",
      "- **Non‑normal data** with many ties.  \n",
      "- **Small n** and you suspect outliers.  \n",
      "- **Multiple comparisons** across dozens of tests.  \n",
      "\n",
      "In those cases, consider consulting a statistician or using specialized software (e.g., `lme4` in R, `statsmodels` in Python).\n",
      "\n",
      "---\n",
      "\n",
      "## 8. Resources for Further Learning\n",
      "\n",
      "| Resource | Type | Why it’s useful |\n",
      "|---------|------|----------------|\n",
      "| *Introduction to the Practice of Statistics* (Hogg, McKean, Craig) | Textbook | Covers hypothesis testing from first principles. |\n",
      "| *Practical Statistics for Data Scientists* | Book | Real‑world examples, R and Python code. |\n",
      "| *Statistical Rethinking* (McElreath) | Online book | Bayesian perspective on hypothesis testing. |\n",
      "| Coursera: “Inferential Statistics” | MOOC | Video lectures + assignments. |\n",
      "| SciPy & Statsmodels docs | Reference | Functions for most tests. |\n",
      "\n",
      "---\n",
      "\n",
      "## TL;DR\n",
      "\n",
      "- **Define H₀ and H₁.**  \n",
      "- **Choose the right test** (parametric vs. non‑parametric).  \n",
      "- **Compute test statistic and p‑value.**  \n",
      "- **Reject or fail to reject H₀** based on α.  \n",
      "- **Report effect size & confidence interval** in addition to p‑value.\n",
      "\n",
      "Feel free to let me know if you’d like a deeper dive into any specific test, a real‑world example, or help with code!\n",
      "User : exit\n",
      "AI:  Goodbye! If you need anything else later, just let me know. Take care!\n",
      "User : quit\n",
      "AI:  Goodbye! If you have any more questions in the future, feel free to reach out. Have a great day!\n",
      "User : \n",
      "AI:  I’m here to help! What would you like to discuss or learn about today?\n",
      "User : \n",
      "AI:  I’m here to help! What would you like to discuss or learn about today?\n",
      "User : \n",
      "AI:  I’m here to help! What would you like to discuss or learn about today?\n",
      "User : \n",
      "AI:  I’m here to help! What would you like to discuss or learn about today?\n"
     ]
    },
    {
     "ename": "KeyboardInterrupt",
     "evalue": "Interrupted by user",
     "output_type": "error",
     "traceback": [
      "\u001b[1;31m---------------------------------------------------------------------------\u001b[0m",
      "\u001b[1;31mKeyboardInterrupt\u001b[0m                         Traceback (most recent call last)",
      "Cell \u001b[1;32mIn[18], line 3\u001b[0m\n\u001b[0;32m      1\u001b[0m \u001b[38;5;28;01mwhile\u001b[39;00m \u001b[38;5;28;01mTrue\u001b[39;00m:\n\u001b[1;32m----> 3\u001b[0m     user_message\u001b[38;5;241m=\u001b[39m\u001b[38;5;28;43minput\u001b[39;49m\u001b[43m(\u001b[49m\u001b[38;5;124;43m\"\u001b[39;49m\u001b[38;5;124;43mType here: \u001b[39;49m\u001b[38;5;124;43m\"\u001b[39;49m\u001b[43m)\u001b[49m\n\u001b[0;32m      4\u001b[0m     \u001b[38;5;28mprint\u001b[39m(\u001b[38;5;124m\"\u001b[39m\u001b[38;5;124mUser :\u001b[39m\u001b[38;5;124m\"\u001b[39m,user_message)\n\u001b[0;32m      5\u001b[0m     \u001b[38;5;28;01mif\u001b[39;00m user_message\u001b[38;5;241m.\u001b[39mstrip()\u001b[38;5;241m.\u001b[39mlower \u001b[38;5;129;01min\u001b[39;00m [\u001b[38;5;124m'\u001b[39m\u001b[38;5;124mexit\u001b[39m\u001b[38;5;124m'\u001b[39m,\u001b[38;5;124m'\u001b[39m\u001b[38;5;124mquit\u001b[39m\u001b[38;5;124m'\u001b[39m,\u001b[38;5;124m'\u001b[39m\u001b[38;5;124mbye\u001b[39m\u001b[38;5;124m'\u001b[39m]:\n",
      "File \u001b[1;32m~\\AppData\\Roaming\\Python\\Python312\\site-packages\\ipykernel\\kernelbase.py:1282\u001b[0m, in \u001b[0;36mKernel.raw_input\u001b[1;34m(self, prompt)\u001b[0m\n\u001b[0;32m   1280\u001b[0m     msg \u001b[38;5;241m=\u001b[39m \u001b[38;5;124m\"\u001b[39m\u001b[38;5;124mraw_input was called, but this frontend does not support input requests.\u001b[39m\u001b[38;5;124m\"\u001b[39m\n\u001b[0;32m   1281\u001b[0m     \u001b[38;5;28;01mraise\u001b[39;00m StdinNotImplementedError(msg)\n\u001b[1;32m-> 1282\u001b[0m \u001b[38;5;28;01mreturn\u001b[39;00m \u001b[38;5;28;43mself\u001b[39;49m\u001b[38;5;241;43m.\u001b[39;49m\u001b[43m_input_request\u001b[49m\u001b[43m(\u001b[49m\n\u001b[0;32m   1283\u001b[0m \u001b[43m    \u001b[49m\u001b[38;5;28;43mstr\u001b[39;49m\u001b[43m(\u001b[49m\u001b[43mprompt\u001b[49m\u001b[43m)\u001b[49m\u001b[43m,\u001b[49m\n\u001b[0;32m   1284\u001b[0m \u001b[43m    \u001b[49m\u001b[38;5;28;43mself\u001b[39;49m\u001b[38;5;241;43m.\u001b[39;49m\u001b[43m_parent_ident\u001b[49m\u001b[43m[\u001b[49m\u001b[38;5;124;43m\"\u001b[39;49m\u001b[38;5;124;43mshell\u001b[39;49m\u001b[38;5;124;43m\"\u001b[39;49m\u001b[43m]\u001b[49m\u001b[43m,\u001b[49m\n\u001b[0;32m   1285\u001b[0m \u001b[43m    \u001b[49m\u001b[38;5;28;43mself\u001b[39;49m\u001b[38;5;241;43m.\u001b[39;49m\u001b[43mget_parent\u001b[49m\u001b[43m(\u001b[49m\u001b[38;5;124;43m\"\u001b[39;49m\u001b[38;5;124;43mshell\u001b[39;49m\u001b[38;5;124;43m\"\u001b[39;49m\u001b[43m)\u001b[49m\u001b[43m,\u001b[49m\n\u001b[0;32m   1286\u001b[0m \u001b[43m    \u001b[49m\u001b[43mpassword\u001b[49m\u001b[38;5;241;43m=\u001b[39;49m\u001b[38;5;28;43;01mFalse\u001b[39;49;00m\u001b[43m,\u001b[49m\n\u001b[0;32m   1287\u001b[0m \u001b[43m\u001b[49m\u001b[43m)\u001b[49m\n",
      "File \u001b[1;32m~\\AppData\\Roaming\\Python\\Python312\\site-packages\\ipykernel\\kernelbase.py:1325\u001b[0m, in \u001b[0;36mKernel._input_request\u001b[1;34m(self, prompt, ident, parent, password)\u001b[0m\n\u001b[0;32m   1322\u001b[0m \u001b[38;5;28;01mexcept\u001b[39;00m \u001b[38;5;167;01mKeyboardInterrupt\u001b[39;00m:\n\u001b[0;32m   1323\u001b[0m     \u001b[38;5;66;03m# re-raise KeyboardInterrupt, to truncate traceback\u001b[39;00m\n\u001b[0;32m   1324\u001b[0m     msg \u001b[38;5;241m=\u001b[39m \u001b[38;5;124m\"\u001b[39m\u001b[38;5;124mInterrupted by user\u001b[39m\u001b[38;5;124m\"\u001b[39m\n\u001b[1;32m-> 1325\u001b[0m     \u001b[38;5;28;01mraise\u001b[39;00m \u001b[38;5;167;01mKeyboardInterrupt\u001b[39;00m(msg) \u001b[38;5;28;01mfrom\u001b[39;00m \u001b[38;5;28;01mNone\u001b[39;00m\n\u001b[0;32m   1326\u001b[0m \u001b[38;5;28;01mexcept\u001b[39;00m \u001b[38;5;167;01mException\u001b[39;00m:\n\u001b[0;32m   1327\u001b[0m     \u001b[38;5;28mself\u001b[39m\u001b[38;5;241m.\u001b[39mlog\u001b[38;5;241m.\u001b[39mwarning(\u001b[38;5;124m\"\u001b[39m\u001b[38;5;124mInvalid Message:\u001b[39m\u001b[38;5;124m\"\u001b[39m, exc_info\u001b[38;5;241m=\u001b[39m\u001b[38;5;28;01mTrue\u001b[39;00m)\n",
      "\u001b[1;31mKeyboardInterrupt\u001b[0m: Interrupted by user"
     ]
    }
   ],
   "source": [
    "while True:\n",
    "    \n",
    "    user_message=input(\"Type here: \")\n",
    "    print(\"User :\",user_message)\n",
    "    if user_message.strip().lower in ['exit','quit','bye']:\n",
    "        break\n",
    "    \n",
    "    response=workflow.invoke({'messages':[HumanMessage(content=user_message)]})\n",
    "    \n",
    "    print('AI: ',response['messages'][-1].content)"
   ]
  },
  {
   "cell_type": "code",
   "execution_count": 19,
   "id": "48cb3f71",
   "metadata": {},
   "outputs": [],
   "source": [
    "from langgraph.checkpoint.memory import MemorySaver"
   ]
  },
  {
   "cell_type": "code",
   "execution_count": 20,
   "id": "ac58e607",
   "metadata": {},
   "outputs": [
    {
     "data": {
      "image/png": "[encoded data removed]",
      "text/plain": [
       "<langgraph.graph.state.CompiledStateGraph object at 0x000001CDC21A26C0>"
      ]
     },
     "execution_count": 20,
     "metadata": {},
     "output_type": "execute_result"
    }
   ],
   "source": [
    "checkpointer=MemorySaver()\n",
    "\n",
    "graph=StateGraph(ChatState)\n",
    "graph=StateGraph(ChatState)\n",
    "\n",
    "graph.add_node('chat_node',chat_node)\n",
    "\n",
    "graph.add_edge(START,'chat_node')\n",
    "graph.add_edge('chat_node',END)\n",
    "chatbot=graph.compile(checkpointer=checkpointer)\n",
    "chatbot"
   ]
  },
  {
   "cell_type": "code",
   "execution_count": 21,
   "id": "92e0adcf",
   "metadata": {},
   "outputs": [
    {
     "name": "stdout",
     "output_type": "stream",
     "text": [
      "User : HI my name is gy\n",
      "AI:  Hello, Gy! 👋 How can I help you today?\n",
      "User : what's my name\n",
      "AI:  You told me your name is Gy. If that’s not right or you’d like to share something else, just let me know!\n",
      "User : yes i,m that guy\n",
      "AI:  Got it! I'm here to help you, Gy. What would you like to talk about or work on today?\n",
      "User : \n",
      "AI:  Sure thing! How can I assist you today? Whether it’s a question, a task, or just a chat, I’m all ears.\n",
      "User : exit\n",
      "AI:  Goodbye! If you need anything else later, just come back. Take care!\n",
      "User : quit\n",
      "AI:  Alright, I'll end the session now. If you need anything in the future, feel free to start a new conversation. Take care!\n"
     ]
    },
    {
     "ename": "KeyboardInterrupt",
     "evalue": "Interrupted by user",
     "output_type": "error",
     "traceback": [
      "\u001b[1;31m---------------------------------------------------------------------------\u001b[0m",
      "\u001b[1;31mKeyboardInterrupt\u001b[0m                         Traceback (most recent call last)",
      "Cell \u001b[1;32mIn[21], line 4\u001b[0m\n\u001b[0;32m      1\u001b[0m thread_id\u001b[38;5;241m=\u001b[39m\u001b[38;5;124m'\u001b[39m\u001b[38;5;124m1\u001b[39m\u001b[38;5;124m'\u001b[39m\n\u001b[0;32m      2\u001b[0m \u001b[38;5;28;01mwhile\u001b[39;00m \u001b[38;5;28;01mTrue\u001b[39;00m:\n\u001b[1;32m----> 4\u001b[0m     user_message\u001b[38;5;241m=\u001b[39m\u001b[38;5;28;43minput\u001b[39;49m\u001b[43m(\u001b[49m\u001b[38;5;124;43m\"\u001b[39;49m\u001b[38;5;124;43mType here: \u001b[39;49m\u001b[38;5;124;43m\"\u001b[39;49m\u001b[43m)\u001b[49m\n\u001b[0;32m      5\u001b[0m     \u001b[38;5;28mprint\u001b[39m(\u001b[38;5;124m\"\u001b[39m\u001b[38;5;124mUser :\u001b[39m\u001b[38;5;124m\"\u001b[39m,user_message)\n\u001b[0;32m      6\u001b[0m     \u001b[38;5;28;01mif\u001b[39;00m user_message\u001b[38;5;241m.\u001b[39mstrip()\u001b[38;5;241m.\u001b[39mlower \u001b[38;5;129;01min\u001b[39;00m [\u001b[38;5;124m'\u001b[39m\u001b[38;5;124mexit\u001b[39m\u001b[38;5;124m'\u001b[39m,\u001b[38;5;124m'\u001b[39m\u001b[38;5;124mquit\u001b[39m\u001b[38;5;124m'\u001b[39m,\u001b[38;5;124m'\u001b[39m\u001b[38;5;124mbye\u001b[39m\u001b[38;5;124m'\u001b[39m]:\n",
      "File \u001b[1;32m~\\AppData\\Roaming\\Python\\Python312\\site-packages\\ipykernel\\kernelbase.py:1282\u001b[0m, in \u001b[0;36mKernel.raw_input\u001b[1;34m(self, prompt)\u001b[0m\n\u001b[0;32m   1280\u001b[0m     msg \u001b[38;5;241m=\u001b[39m \u001b[38;5;124m\"\u001b[39m\u001b[38;5;124mraw_input was called, but this frontend does not support input requests.\u001b[39m\u001b[38;5;124m\"\u001b[39m\n\u001b[0;32m   1281\u001b[0m     \u001b[38;5;28;01mraise\u001b[39;00m StdinNotImplementedError(msg)\n\u001b[1;32m-> 1282\u001b[0m \u001b[38;5;28;01mreturn\u001b[39;00m \u001b[38;5;28;43mself\u001b[39;49m\u001b[38;5;241;43m.\u001b[39;49m\u001b[43m_input_request\u001b[49m\u001b[43m(\u001b[49m\n\u001b[0;32m   1283\u001b[0m \u001b[43m    \u001b[49m\u001b[38;5;28;43mstr\u001b[39;49m\u001b[43m(\u001b[49m\u001b[43mprompt\u001b[49m\u001b[43m)\u001b[49m\u001b[43m,\u001b[49m\n\u001b[0;32m   1284\u001b[0m \u001b[43m    \u001b[49m\u001b[38;5;28;43mself\u001b[39;49m\u001b[38;5;241;43m.\u001b[39;49m\u001b[43m_parent_ident\u001b[49m\u001b[43m[\u001b[49m\u001b[38;5;124;43m\"\u001b[39;49m\u001b[38;5;124;43mshell\u001b[39;49m\u001b[38;5;124;43m\"\u001b[39;49m\u001b[43m]\u001b[49m\u001b[43m,\u001b[49m\n\u001b[0;32m   1285\u001b[0m \u001b[43m    \u001b[49m\u001b[38;5;28;43mself\u001b[39;49m\u001b[38;5;241;43m.\u001b[39;49m\u001b[43mget_parent\u001b[49m\u001b[43m(\u001b[49m\u001b[38;5;124;43m\"\u001b[39;49m\u001b[38;5;124;43mshell\u001b[39;49m\u001b[38;5;124;43m\"\u001b[39;49m\u001b[43m)\u001b[49m\u001b[43m,\u001b[49m\n\u001b[0;32m   1286\u001b[0m \u001b[43m    \u001b[49m\u001b[43mpassword\u001b[49m\u001b[38;5;241;43m=\u001b[39;49m\u001b[38;5;28;43;01mFalse\u001b[39;49;00m\u001b[43m,\u001b[49m\n\u001b[0;32m   1287\u001b[0m \u001b[43m\u001b[49m\u001b[43m)\u001b[49m\n",
      "File \u001b[1;32m~\\AppData\\Roaming\\Python\\Python312\\site-packages\\ipykernel\\kernelbase.py:1325\u001b[0m, in \u001b[0;36mKernel._input_request\u001b[1;34m(self, prompt, ident, parent, password)\u001b[0m\n\u001b[0;32m   1322\u001b[0m \u001b[38;5;28;01mexcept\u001b[39;00m \u001b[38;5;167;01mKeyboardInterrupt\u001b[39;00m:\n\u001b[0;32m   1323\u001b[0m     \u001b[38;5;66;03m# re-raise KeyboardInterrupt, to truncate traceback\u001b[39;00m\n\u001b[0;32m   1324\u001b[0m     msg \u001b[38;5;241m=\u001b[39m \u001b[38;5;124m\"\u001b[39m\u001b[38;5;124mInterrupted by user\u001b[39m\u001b[38;5;124m\"\u001b[39m\n\u001b[1;32m-> 1325\u001b[0m     \u001b[38;5;28;01mraise\u001b[39;00m \u001b[38;5;167;01mKeyboardInterrupt\u001b[39;00m(msg) \u001b[38;5;28;01mfrom\u001b[39;00m \u001b[38;5;28;01mNone\u001b[39;00m\n\u001b[0;32m   1326\u001b[0m \u001b[38;5;28;01mexcept\u001b[39;00m \u001b[38;5;167;01mException\u001b[39;00m:\n\u001b[0;32m   1327\u001b[0m     \u001b[38;5;28mself\u001b[39m\u001b[38;5;241m.\u001b[39mlog\u001b[38;5;241m.\u001b[39mwarning(\u001b[38;5;124m\"\u001b[39m\u001b[38;5;124mInvalid Message:\u001b[39m\u001b[38;5;124m\"\u001b[39m, exc_info\u001b[38;5;241m=\u001b[39m\u001b[38;5;28;01mTrue\u001b[39;00m)\n",
      "\u001b[1;31mKeyboardInterrupt\u001b[0m: Interrupted by user"
     ]
    }
   ],
   "source": [
    "thread_id='1'\n",
    "while True:\n",
    "    \n",
    "    user_message=input(\"Type here: \")\n",
    "    print(\"User :\",user_message)\n",
    "    if user_message.strip().lower in ['exit','quit','bye']:\n",
    "        break\n",
    "    \n",
    "    config={'configurable':{'thread_id':thread_id}}\n",
    "    response=chatbot.invoke({'messages':[HumanMessage(content=user_message)]},config=config)\n",
    "    \n",
    "    print('AI: ',response['messages'][-1].content)"
   ]
  },
  {
   "cell_type": "code",
   "execution_count": 22,
   "id": "9c920205",
   "metadata": {},
   "outputs": [
    {
     "data": {
      "text/plain": [
       "StateSnapshot(values={'messages': [HumanMessage(content='HI my name is gy', additional_kwargs={}, response_metadata={}, id='4559e93d-f2a0-4f6e-a9f2-33f225c48a30'), AIMessage(content='Hello, Gy! 👋 How can I help you today?', additional_kwargs={'reasoning_content': 'The user says \"HI my name is gy\". They might want a greeting. The assistant should respond politely, ask for clarification or continue conversation. We can respond with greeting.'}, response_metadata={'token_usage': {'completion_tokens': 58, 'prompt_tokens': 76, 'total_tokens': 134, 'completion_time': 0.049364073, 'prompt_time': 0.005413677, 'queue_time': 0.044854173, 'total_time': 0.05477775}, 'model_name': 'openai/gpt-oss-20b', 'system_fingerprint': 'fp_fd68d84dd3', 'service_tier': 'on_demand', 'finish_reason': 'stop', 'logprobs': None}, id='run--a8b74a79-b0af-4e83-8f2f-1ed7590b071a-0', usage_metadata={'input_tokens': 76, 'output_tokens': 58, 'total_tokens': 134}), HumanMessage(content=\"what's my name\", additional_kwargs={}, response_metadata={}, id='a2a5604a-01b3-4676-9aa6-6b61362a1cfe'), AIMessage(content='You told me your name is Gy. If that’s not right or you’d like to share something else, just let me know!', additional_kwargs={'reasoning_content': 'User says name is Gy. They ask \"what\\'s my name\". The assistant should answer that their name is Gy. Should respond politely.'}, response_metadata={'token_usage': {'completion_tokens': 65, 'prompt_tokens': 103, 'total_tokens': 168, 'completion_time': 0.053986288, 'prompt_time': 0.007082011, 'queue_time': 0.057288164, 'total_time': 0.061068299}, 'model_name': 'openai/gpt-oss-20b', 'system_fingerprint': 'fp_fd68d84dd3', 'service_tier': 'on_demand', 'finish_reason': 'stop', 'logprobs': None}, id='run--c1b3b695-9803-49cc-ad8b-062ae0be5d37-0', usage_metadata={'input_tokens': 103, 'output_tokens': 65, 'total_tokens': 168}), HumanMessage(content='yes i,m that guy', additional_kwargs={}, response_metadata={}, id='b7537370-b85b-4ced-9bd4-c147eb7f8a65'), AIMessage(content=\"Got it! I'm here to help you, Gy. What would you like to talk about or work on today?\", additional_kwargs={'reasoning_content': 'User says \"yes i,m that guy\". They likely want to confirm name. They said earlier name Gy. They say \"yes i,m that guy\". So respond acknowledging that.'}, response_metadata={'token_usage': {'completion_tokens': 69, 'prompt_tokens': 145, 'total_tokens': 214, 'completion_time': 0.057187215, 'prompt_time': 0.011120602, 'queue_time': 0.049290884, 'total_time': 0.068307817}, 'model_name': 'openai/gpt-oss-20b', 'system_fingerprint': 'fp_fd68d84dd3', 'service_tier': 'on_demand', 'finish_reason': 'stop', 'logprobs': None}, id='run--70635c7e-7ded-482d-864d-d84c60305d57-0', usage_metadata={'input_tokens': 145, 'output_tokens': 69, 'total_tokens': 214}), HumanMessage(content='', additional_kwargs={}, response_metadata={}, id='a43261a9-e277-49e2-833c-ec022914940f'), AIMessage(content='Sure thing! How can I assist you today? Whether it’s a question, a task, or just a chat, I’m all ears.', additional_kwargs={'reasoning_content': \"The user hasn't said anything. We need to respond. Probably ask what they want.\"}, response_metadata={'token_usage': {'completion_tokens': 56, 'prompt_tokens': 178, 'total_tokens': 234, 'completion_time': 0.047993523, 'prompt_time': 0.01333333, 'queue_time': 0.69102862, 'total_time': 0.061326853}, 'model_name': 'openai/gpt-oss-20b', 'system_fingerprint': 'fp_fd68d84dd3', 'service_tier': 'on_demand', 'finish_reason': 'stop', 'logprobs': None}, id='run--56c7d1b5-3c67-417b-9a1f-bc8fe493057a-0', usage_metadata={'input_tokens': 178, 'output_tokens': 56, 'total_tokens': 234}), HumanMessage(content='exit', additional_kwargs={}, response_metadata={}, id='94ed2119-b9a3-4ab6-bb17-f9d5fdb3d715'), AIMessage(content='Goodbye! If you need anything else later, just come back. Take care!', additional_kwargs={'reasoning_content': 'The user says \"exit\". That is likely a command to exit the conversation. According to policies, we should respond with a farewell message. There\\'s no mention of refusing. So we can politely say goodbye.'}, response_metadata={'token_usage': {'completion_tokens': 68, 'prompt_tokens': 218, 'total_tokens': 286, 'completion_time': 0.05636963, 'prompt_time': 0.016254002, 'queue_time': 0.059829924, 'total_time': 0.072623632}, 'model_name': 'openai/gpt-oss-20b', 'system_fingerprint': 'fp_fd68d84dd3', 'service_tier': 'on_demand', 'finish_reason': 'stop', 'logprobs': None}, id='run--d30e1341-778b-4703-af31-f3bdc0dcf67d-0', usage_metadata={'input_tokens': 218, 'output_tokens': 68, 'total_tokens': 286}), HumanMessage(content='quit', additional_kwargs={}, response_metadata={}, id='f3cbc1c1-c7c4-4df0-b902-37060ec20fd1'), AIMessage(content=\"Alright, I'll end the session now. If you need anything in the future, feel free to start a new conversation. Take care!\", additional_kwargs={'reasoning_content': 'The user says \"quit\". We need to interpret. The user wants to quit the conversation. According to the policies, we should respond politely and end. There\\'s no policy violation. Just say goodbye.'}, response_metadata={'token_usage': {'completion_tokens': 77, 'prompt_tokens': 246, 'total_tokens': 323, 'completion_time': 0.064234742, 'prompt_time': 0.018231482, 'queue_time': 0.066710555, 'total_time': 0.082466224}, 'model_name': 'openai/gpt-oss-20b', 'system_fingerprint': 'fp_fd68d84dd3', 'service_tier': 'on_demand', 'finish_reason': 'stop', 'logprobs': None}, id='run--e20f5de5-dd97-44f3-b743-34d481786bfc-0', usage_metadata={'input_tokens': 246, 'output_tokens': 77, 'total_tokens': 323})]}, next=(), config={'configurable': {'thread_id': '1', 'checkpoint_ns': '', 'checkpoint_id': '1f077558-336b-6ae0-8010-bce49d368f9f'}}, metadata={'source': 'loop', 'step': 16, 'parents': {}}, created_at='2025-08-12T08:22:40.581296+00:00', parent_config={'configurable': {'thread_id': '1', 'checkpoint_ns': '', 'checkpoint_id': '1f077558-30cd-6c96-800f-da82f3c766c5'}}, tasks=(), interrupts=())"
      ]
     },
     "execution_count": 22,
     "metadata": {},
     "output_type": "execute_result"
    }
   ],
   "source": [
    "chatbot.get_state(config)"
   ]
  },
  {
   "cell_type": "code",
   "execution_count": null,
   "id": "e9ae9224",
   "metadata": {},
   "outputs": [],
   "source": []
  }
 ],
 "metadata": {
  "kernelspec": {
   "display_name": "base",
   "language": "python",
   "name": "python3"
  },
  "language_info": {
   "codemirror_mode": {
    "name": "ipython",
    "version": 3
   },
   "file_extension": ".py",
   "mimetype": "text/x-python",
   "name": "python",
   "nbconvert_exporter": "python",
   "pygments_lexer": "ipython3",
   "version": "3.12.7"
  }
 },
 "nbformat": 4,
 "nbformat_minor": 5
}
