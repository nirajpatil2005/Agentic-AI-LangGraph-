{
 "cells": [
  {
   "cell_type": "code",
   "execution_count": 2,
   "id": "1441b67e",
   "metadata": {},
   "outputs": [],
   "source": [
    "from langgraph.graph import StateGraph,START,END\n",
    "from typing import Annotated,TypedDict\n",
    "from langchain_groq import ChatGroq\n",
    "from dotenv import load_dotenv\n",
    "from langgraph.checkpoint.memory import InMemorySaver\n",
    "load_dotenv()\n",
    "import os\n",
    "groq_api=os.getenv(\"test_groq\")"
   ]
  },
  {
   "cell_type": "code",
   "execution_count": 3,
   "id": "3895cb00",
   "metadata": {},
   "outputs": [],
   "source": [
    "model=ChatGroq(\n",
    "    api_key=groq_api,\n",
    "    model_name=\"openai/gpt-oss-20b\"\n",
    ")"
   ]
  },
  {
   "cell_type": "code",
   "execution_count": 4,
   "id": "d89fafc5",
   "metadata": {},
   "outputs": [],
   "source": [
    "class JokeState(TypedDict):\n",
    "    topic:str\n",
    "    joke:str\n",
    "    explaination:str"
   ]
  },
  {
   "cell_type": "code",
   "execution_count": null,
   "id": "31e5a02e",
   "metadata": {},
   "outputs": [],
   "source": [
    "def generate_joke(state:JokeState):\n",
    "    \n",
    "    prompt=f\"generate a joke on the topic {state['topic']}\"\n",
    "    response=model.invoke(prompt).content\n",
    "    return {'joke':response}"
   ]
  },
  {
   "cell_type": "code",
   "execution_count": 6,
   "id": "91521bf2",
   "metadata": {},
   "outputs": [],
   "source": [
    "def generate_explaination(state:JokeState):\n",
    "    \n",
    "    prompt=f\"write an explaination for the joke-> {state['joke']}\"\n",
    "    response=model.invoke(prompt).content\n",
    "    return {'joke':response}"
   ]
  },
  {
   "cell_type": "code",
   "execution_count": 8,
   "id": "aca4ef71",
   "metadata": {},
   "outputs": [
    {
     "data": {
      "image/png": "[encoded data removed]",
      "text/plain": [
       "<langgraph.graph.state.CompiledStateGraph object at 0x0000015915A54A10>"
      ]
     },
     "execution_count": 8,
     "metadata": {},
     "output_type": "execute_result"
    }
   ],
   "source": [
    "graph=StateGraph(JokeState)\n",
    "\n",
    "graph.add_node('generate_joke',generate_joke)\n",
    "graph.add_node('generate_explaination',generate_explaination)\n",
    "\n",
    "graph.add_edge(START,'generate_joke')\n",
    "graph.add_edge('generate_joke','generate_explaination')\n",
    "graph.add_edge('generate_explaination',END)\n",
    "\n",
    "checkpointer=InMemorySaver()\n",
    "\n",
    "workflow=graph.compile(checkpointer=checkpointer)\n",
    "workflow"
   ]
  },
  {
   "cell_type": "code",
   "execution_count": 10,
   "id": "b92a23e2",
   "metadata": {},
   "outputs": [
    {
     "data": {
      "text/plain": [
       "{'topic': 'hotdog',\n",
       " 'joke': '**Why the joke is funny – a quick “word‑play” breakdown**\\n\\n| Element | What it is | How it works |\\n|--------|-----------|-------------|\\n| **“hotdog”** | A classic sandwich made of a sausage (often called a *frankfurter*). | Sets up the literal subject of the joke – a hotdog is a food item that would never normally think about jobs. |\\n| **“apply for a job”** | The usual phrase when someone is looking for work. | Gives the joke its narrative structure – we expect a person, but here it’s a food item. |\\n| **“a little *frank* experience”** | “Frank” is slang for honest or straightforward, but it’s also the word that describes a particular type of sausage (a *frankfurter*). | The pun is two‑fold: 1) It sounds like “to get a little honest experience,” and 2) it literally refers to a “frank” (hotdog) gaining “experience.” |\\n| **“earn some *bun* bucks”** | “Bun” refers to the bread roll that holds a hotdog, while “bucks” is slang for money. | The joke replaces “bucks” (money) with “bun” (the bread), creating a playful twist that keeps the food theme. |\\n\\n### How the humor unfolds\\n\\n1. **Expectation vs. Reality** – We’re used to hearing about people applying for jobs, not a hotdog. That mismatch already sets a playful tone.\\n2. **Double‑layered puns** – The punchline plays on two words that sound like everyday phrases but are literal food terms:  \\n   * *frank* → honest + frankfurter  \\n   * *bun* → bread roll + “bucks” (money).  \\n3. **Word‑play rhythm** – The rhyme (“frank” / “experience” / “bun” / “bucks”) gives the joke a sing‑song cadence that’s easy to repeat and enjoy.\\n4. **Self‑referential humor** – The hotdog is literally “getting experience” (i.e., becoming a better hotdog) and “earning bucks” (i.e., staying in the sandwich). It’s a light‑hearted, harmless joke that relies on the audience’s familiarity with both everyday slang and food terminology.\\n\\nSo, the joke is funny because it takes a mundane activity (applying for a job) and turns it into a tasty pun that plays on the double meanings of “frank” and “bun,” all while keeping the subject in the delicious realm of hotdogs.'}"
      ]
     },
     "execution_count": 10,
     "metadata": {},
     "output_type": "execute_result"
    }
   ],
   "source": [
    "config1={'configurable':{'thread_id':\"1\"}}\n",
    "workflow.invoke({'topic':'hotdog'},config=config1)"
   ]
  },
  {
   "cell_type": "code",
   "execution_count": 11,
   "id": "2d52b60e",
   "metadata": {},
   "outputs": [
    {
     "data": {
      "text/plain": [
       "StateSnapshot(values={'topic': 'hotdog', 'joke': '**Why the joke is funny – a quick “word‑play” breakdown**\\n\\n| Element | What it is | How it works |\\n|--------|-----------|-------------|\\n| **“hotdog”** | A classic sandwich made of a sausage (often called a *frankfurter*). | Sets up the literal subject of the joke – a hotdog is a food item that would never normally think about jobs. |\\n| **“apply for a job”** | The usual phrase when someone is looking for work. | Gives the joke its narrative structure – we expect a person, but here it’s a food item. |\\n| **“a little *frank* experience”** | “Frank” is slang for honest or straightforward, but it’s also the word that describes a particular type of sausage (a *frankfurter*). | The pun is two‑fold: 1) It sounds like “to get a little honest experience,” and 2) it literally refers to a “frank” (hotdog) gaining “experience.” |\\n| **“earn some *bun* bucks”** | “Bun” refers to the bread roll that holds a hotdog, while “bucks” is slang for money. | The joke replaces “bucks” (money) with “bun” (the bread), creating a playful twist that keeps the food theme. |\\n\\n### How the humor unfolds\\n\\n1. **Expectation vs. Reality** – We’re used to hearing about people applying for jobs, not a hotdog. That mismatch already sets a playful tone.\\n2. **Double‑layered puns** – The punchline plays on two words that sound like everyday phrases but are literal food terms:  \\n   * *frank* → honest + frankfurter  \\n   * *bun* → bread roll + “bucks” (money).  \\n3. **Word‑play rhythm** – The rhyme (“frank” / “experience” / “bun” / “bucks”) gives the joke a sing‑song cadence that’s easy to repeat and enjoy.\\n4. **Self‑referential humor** – The hotdog is literally “getting experience” (i.e., becoming a better hotdog) and “earning bucks” (i.e., staying in the sandwich). It’s a light‑hearted, harmless joke that relies on the audience’s familiarity with both everyday slang and food terminology.\\n\\nSo, the joke is funny because it takes a mundane activity (applying for a job) and turns it into a tasty pun that plays on the double meanings of “frank” and “bun,” all while keeping the subject in the delicious realm of hotdogs.'}, next=(), config={'configurable': {'thread_id': '1', 'checkpoint_ns': '', 'checkpoint_id': '1f0775ae-738c-6013-8002-a02fb687037c'}}, metadata={'source': 'loop', 'step': 2, 'parents': {}}, created_at='2025-08-12T09:01:15.850344+00:00', parent_config={'configurable': {'thread_id': '1', 'checkpoint_ns': '', 'checkpoint_id': '1f0775ae-6cef-6d8d-8001-d625b0bdeb5c'}}, tasks=(), interrupts=())"
      ]
     },
     "execution_count": 11,
     "metadata": {},
     "output_type": "execute_result"
    }
   ],
   "source": [
    "workflow.get_state(config1)"
   ]
  },
  {
   "cell_type": "code",
   "execution_count": 12,
   "id": "149eac51",
   "metadata": {},
   "outputs": [
    {
     "data": {
      "text/plain": [
       "[StateSnapshot(values={'topic': 'hotdog', 'joke': '**Why the joke is funny – a quick “word‑play” breakdown**\\n\\n| Element | What it is | How it works |\\n|--------|-----------|-------------|\\n| **“hotdog”** | A classic sandwich made of a sausage (often called a *frankfurter*). | Sets up the literal subject of the joke – a hotdog is a food item that would never normally think about jobs. |\\n| **“apply for a job”** | The usual phrase when someone is looking for work. | Gives the joke its narrative structure – we expect a person, but here it’s a food item. |\\n| **“a little *frank* experience”** | “Frank” is slang for honest or straightforward, but it’s also the word that describes a particular type of sausage (a *frankfurter*). | The pun is two‑fold: 1) It sounds like “to get a little honest experience,” and 2) it literally refers to a “frank” (hotdog) gaining “experience.” |\\n| **“earn some *bun* bucks”** | “Bun” refers to the bread roll that holds a hotdog, while “bucks” is slang for money. | The joke replaces “bucks” (money) with “bun” (the bread), creating a playful twist that keeps the food theme. |\\n\\n### How the humor unfolds\\n\\n1. **Expectation vs. Reality** – We’re used to hearing about people applying for jobs, not a hotdog. That mismatch already sets a playful tone.\\n2. **Double‑layered puns** – The punchline plays on two words that sound like everyday phrases but are literal food terms:  \\n   * *frank* → honest + frankfurter  \\n   * *bun* → bread roll + “bucks” (money).  \\n3. **Word‑play rhythm** – The rhyme (“frank” / “experience” / “bun” / “bucks”) gives the joke a sing‑song cadence that’s easy to repeat and enjoy.\\n4. **Self‑referential humor** – The hotdog is literally “getting experience” (i.e., becoming a better hotdog) and “earning bucks” (i.e., staying in the sandwich). It’s a light‑hearted, harmless joke that relies on the audience’s familiarity with both everyday slang and food terminology.\\n\\nSo, the joke is funny because it takes a mundane activity (applying for a job) and turns it into a tasty pun that plays on the double meanings of “frank” and “bun,” all while keeping the subject in the delicious realm of hotdogs.'}, next=(), config={'configurable': {'thread_id': '1', 'checkpoint_ns': '', 'checkpoint_id': '1f0775ae-738c-6013-8002-a02fb687037c'}}, metadata={'source': 'loop', 'step': 2, 'parents': {}}, created_at='2025-08-12T09:01:15.850344+00:00', parent_config={'configurable': {'thread_id': '1', 'checkpoint_ns': '', 'checkpoint_id': '1f0775ae-6cef-6d8d-8001-d625b0bdeb5c'}}, tasks=(), interrupts=()),\n",
       " StateSnapshot(values={'topic': 'hotdog', 'joke': 'Why did the hotdog apply for a job?\\n\\nBecause it wanted to get a little *frank* experience and earn some *bun* bucks!'}, next=('generate_explaination',), config={'configurable': {'thread_id': '1', 'checkpoint_ns': '', 'checkpoint_id': '1f0775ae-6cef-6d8d-8001-d625b0bdeb5c'}}, metadata={'source': 'loop', 'step': 1, 'parents': {}}, created_at='2025-08-12T09:01:15.157236+00:00', parent_config={'configurable': {'thread_id': '1', 'checkpoint_ns': '', 'checkpoint_id': '1f0775ae-693e-66b5-8000-2c9006ed825d'}}, tasks=(PregelTask(id='b3baf81f-d6f5-328b-c5ca-25a6d242dc44', name='generate_explaination', path=('__pregel_pull', 'generate_explaination'), error=None, interrupts=(), state=None, result={'joke': '**Why the joke is funny – a quick “word‑play” breakdown**\\n\\n| Element | What it is | How it works |\\n|--------|-----------|-------------|\\n| **“hotdog”** | A classic sandwich made of a sausage (often called a *frankfurter*). | Sets up the literal subject of the joke – a hotdog is a food item that would never normally think about jobs. |\\n| **“apply for a job”** | The usual phrase when someone is looking for work. | Gives the joke its narrative structure – we expect a person, but here it’s a food item. |\\n| **“a little *frank* experience”** | “Frank” is slang for honest or straightforward, but it’s also the word that describes a particular type of sausage (a *frankfurter*). | The pun is two‑fold: 1) It sounds like “to get a little honest experience,” and 2) it literally refers to a “frank” (hotdog) gaining “experience.” |\\n| **“earn some *bun* bucks”** | “Bun” refers to the bread roll that holds a hotdog, while “bucks” is slang for money. | The joke replaces “bucks” (money) with “bun” (the bread), creating a playful twist that keeps the food theme. |\\n\\n### How the humor unfolds\\n\\n1. **Expectation vs. Reality** – We’re used to hearing about people applying for jobs, not a hotdog. That mismatch already sets a playful tone.\\n2. **Double‑layered puns** – The punchline plays on two words that sound like everyday phrases but are literal food terms:  \\n   * *frank* → honest + frankfurter  \\n   * *bun* → bread roll + “bucks” (money).  \\n3. **Word‑play rhythm** – The rhyme (“frank” / “experience” / “bun” / “bucks”) gives the joke a sing‑song cadence that’s easy to repeat and enjoy.\\n4. **Self‑referential humor** – The hotdog is literally “getting experience” (i.e., becoming a better hotdog) and “earning bucks” (i.e., staying in the sandwich). It’s a light‑hearted, harmless joke that relies on the audience’s familiarity with both everyday slang and food terminology.\\n\\nSo, the joke is funny because it takes a mundane activity (applying for a job) and turns it into a tasty pun that plays on the double meanings of “frank” and “bun,” all while keeping the subject in the delicious realm of hotdogs.'}),), interrupts=()),\n",
       " StateSnapshot(values={'topic': 'hotdog'}, next=('generate_joke',), config={'configurable': {'thread_id': '1', 'checkpoint_ns': '', 'checkpoint_id': '1f0775ae-693e-66b5-8000-2c9006ed825d'}}, metadata={'source': 'loop', 'step': 0, 'parents': {}}, created_at='2025-08-12T09:01:14.769989+00:00', parent_config={'configurable': {'thread_id': '1', 'checkpoint_ns': '', 'checkpoint_id': '1f0775ae-6939-68b0-bfff-e544d1a7cf63'}}, tasks=(PregelTask(id='682d6ff2-891a-e9c2-3f6c-3b6e3946fa3f', name='generate_joke', path=('__pregel_pull', 'generate_joke'), error=None, interrupts=(), state=None, result={'joke': 'Why did the hotdog apply for a job?\\n\\nBecause it wanted to get a little *frank* experience and earn some *bun* bucks!'}),), interrupts=()),\n",
       " StateSnapshot(values={}, next=('__start__',), config={'configurable': {'thread_id': '1', 'checkpoint_ns': '', 'checkpoint_id': '1f0775ae-6939-68b0-bfff-e544d1a7cf63'}}, metadata={'source': 'input', 'step': -1, 'parents': {}}, created_at='2025-08-12T09:01:14.767992+00:00', parent_config=None, tasks=(PregelTask(id='4792c4c7-f817-9d88-46a3-c77e8a463fce', name='__start__', path=('__pregel_pull', '__start__'), error=None, interrupts=(), state=None, result={'topic': 'hotdog'}),), interrupts=())]"
      ]
     },
     "execution_count": 12,
     "metadata": {},
     "output_type": "execute_result"
    }
   ],
   "source": [
    "list(workflow.get_state_history(config1))"
   ]
  },
  {
   "cell_type": "code",
   "execution_count": 13,
   "id": "ff97533c",
   "metadata": {},
   "outputs": [
    {
     "data": {
      "text/plain": [
       "{'topic': 'Chai',\n",
       " 'joke': '**Why the joke is funny – a quick breakdown**\\n\\n| Part of the joke | What it means | Why it’s humorous |\\n|------------------|---------------|------------------|\\n| **“Why did the chai go to school?”** | *Chai* is a type of tea (especially a spiced tea from India). | It anthropomorphises the tea, giving it a human‑like motive (“going to school”), which immediately signals a joke. |\\n| **“Because it wanted to get a little *brew*ed education!”** | *Brewed* is a verb that means “to prepare tea or coffee by steeping.” The word *brew* also sounds like “brood” (to grow or develop). | The punchline is a **play on words**. The phrase “a little brewed education” can be read in two ways: 1) *a little brewed* (i.e., a small amount of brewed tea) **and** 2) *a little brewed education* (i.e., a modest education). The joke hinges on the double‑meaning of *brew*—it’s literally tea being “bred” (or brewed) and figuratively “bred” (educated). |\\n\\n### How the pun works\\n\\n1. **Chai** is a tea that *needs* brewing.  \\n2. The phrase “*brew*ed” cleverly combines the act of brewing tea with the idea of “breeding” (learning/growing).  \\n3. By saying the chai wants a “little *brew*ed education,” the joke suggests the tea wants to learn, but the word *brew* also keeps the tea‑theme alive.  \\n\\n### Why it’s funny\\n\\n- **Unexpected personification**: Tea going to school is absurd.  \\n- **Double‑meaning wordplay**: The humor comes from the two meanings of “brew.”  \\n- **Light‑hearted pun**: It’s a gentle, “dad‑joke” style pun that’s easy to understand and chuckle at.\\n\\nIn short, the joke is a clever mash‑up of tea terminology and the idea of schooling, making the tea “want” a *little brewed* (i.e., brewed) education. The humor is all in that punny twist.'}"
      ]
     },
     "execution_count": 13,
     "metadata": {},
     "output_type": "execute_result"
    }
   ],
   "source": [
    "config2={'configurable':{'thread_id':\"1\"}}\n",
    "workflow.invoke({'topic':'Chai'},config=config2)"
   ]
  },
  {
   "cell_type": "code",
   "execution_count": 15,
   "id": "0261af0b",
   "metadata": {},
   "outputs": [
    {
     "data": {
      "text/plain": [
       "StateSnapshot(values={'topic': 'Chai', 'joke': '**Why the joke is funny – a quick breakdown**\\n\\n| Part of the joke | What it means | Why it’s humorous |\\n|------------------|---------------|------------------|\\n| **“Why did the chai go to school?”** | *Chai* is a type of tea (especially a spiced tea from India). | It anthropomorphises the tea, giving it a human‑like motive (“going to school”), which immediately signals a joke. |\\n| **“Because it wanted to get a little *brew*ed education!”** | *Brewed* is a verb that means “to prepare tea or coffee by steeping.” The word *brew* also sounds like “brood” (to grow or develop). | The punchline is a **play on words**. The phrase “a little brewed education” can be read in two ways: 1) *a little brewed* (i.e., a small amount of brewed tea) **and** 2) *a little brewed education* (i.e., a modest education). The joke hinges on the double‑meaning of *brew*—it’s literally tea being “bred” (or brewed) and figuratively “bred” (educated). |\\n\\n### How the pun works\\n\\n1. **Chai** is a tea that *needs* brewing.  \\n2. The phrase “*brew*ed” cleverly combines the act of brewing tea with the idea of “breeding” (learning/growing).  \\n3. By saying the chai wants a “little *brew*ed education,” the joke suggests the tea wants to learn, but the word *brew* also keeps the tea‑theme alive.  \\n\\n### Why it’s funny\\n\\n- **Unexpected personification**: Tea going to school is absurd.  \\n- **Double‑meaning wordplay**: The humor comes from the two meanings of “brew.”  \\n- **Light‑hearted pun**: It’s a gentle, “dad‑joke” style pun that’s easy to understand and chuckle at.\\n\\nIn short, the joke is a clever mash‑up of tea terminology and the idea of schooling, making the tea “want” a *little brewed* (i.e., brewed) education. The humor is all in that punny twist.'}, next=(), config={'configurable': {'thread_id': '1', 'checkpoint_ns': '', 'checkpoint_id': '1f0775b7-7564-6cf4-8006-b4f72ccabc92'}}, metadata={'source': 'loop', 'step': 6, 'parents': {}}, created_at='2025-08-12T09:05:17.635915+00:00', parent_config={'configurable': {'thread_id': '1', 'checkpoint_ns': '', 'checkpoint_id': '1f0775b7-6bf6-674d-8005-85fa85439e0c'}}, tasks=(), interrupts=())"
      ]
     },
     "execution_count": 15,
     "metadata": {},
     "output_type": "execute_result"
    }
   ],
   "source": [
    "workflow.get_state(config2)"
   ]
  },
  {
   "cell_type": "code",
   "execution_count": null,
   "id": "a6d8f482",
   "metadata": {},
   "outputs": [
    {
     "data": {
      "text/plain": [
       "[StateSnapshot(values={'topic': 'Chai', 'joke': '**Why the joke is funny – a quick breakdown**\\n\\n| Part of the joke | What it means | Why it’s humorous |\\n|------------------|---------------|------------------|\\n| **“Why did the chai go to school?”** | *Chai* is a type of tea (especially a spiced tea from India). | It anthropomorphises the tea, giving it a human‑like motive (“going to school”), which immediately signals a joke. |\\n| **“Because it wanted to get a little *brew*ed education!”** | *Brewed* is a verb that means “to prepare tea or coffee by steeping.” The word *brew* also sounds like “brood” (to grow or develop). | The punchline is a **play on words**. The phrase “a little brewed education” can be read in two ways: 1) *a little brewed* (i.e., a small amount of brewed tea) **and** 2) *a little brewed education* (i.e., a modest education). The joke hinges on the double‑meaning of *brew*—it’s literally tea being “bred” (or brewed) and figuratively “bred” (educated). |\\n\\n### How the pun works\\n\\n1. **Chai** is a tea that *needs* brewing.  \\n2. The phrase “*brew*ed” cleverly combines the act of brewing tea with the idea of “breeding” (learning/growing).  \\n3. By saying the chai wants a “little *brew*ed education,” the joke suggests the tea wants to learn, but the word *brew* also keeps the tea‑theme alive.  \\n\\n### Why it’s funny\\n\\n- **Unexpected personification**: Tea going to school is absurd.  \\n- **Double‑meaning wordplay**: The humor comes from the two meanings of “brew.”  \\n- **Light‑hearted pun**: It’s a gentle, “dad‑joke” style pun that’s easy to understand and chuckle at.\\n\\nIn short, the joke is a clever mash‑up of tea terminology and the idea of schooling, making the tea “want” a *little brewed* (i.e., brewed) education. The humor is all in that punny twist.'}, next=(), config={'configurable': {'thread_id': '1', 'checkpoint_ns': '', 'checkpoint_id': '1f0775b7-7564-6cf4-8006-b4f72ccabc92'}}, metadata={'source': 'loop', 'step': 6, 'parents': {}}, created_at='2025-08-12T09:05:17.635915+00:00', parent_config={'configurable': {'thread_id': '1', 'checkpoint_ns': '', 'checkpoint_id': '1f0775b7-6bf6-674d-8005-85fa85439e0c'}}, tasks=(), interrupts=()),\n",
       " StateSnapshot(values={'topic': 'Chai', 'joke': 'Why did the chai go to school?\\n\\nBecause it wanted to get a little *brew*ed education!'}, next=('generate_explaination',), config={'configurable': {'thread_id': '1', 'checkpoint_ns': '', 'checkpoint_id': '1f0775b7-6bf6-674d-8005-85fa85439e0c'}}, metadata={'source': 'loop', 'step': 5, 'parents': {}}, created_at='2025-08-12T09:05:16.646996+00:00', parent_config={'configurable': {'thread_id': '1', 'checkpoint_ns': '', 'checkpoint_id': '1f0775b7-6a12-6559-8004-d7a570359cb9'}}, tasks=(PregelTask(id='ddeebbdc-614a-d4cc-9472-5b83f34f8578', name='generate_explaination', path=('__pregel_pull', 'generate_explaination'), error=None, interrupts=(), state=None, result={'joke': '**Why the joke is funny – a quick breakdown**\\n\\n| Part of the joke | What it means | Why it’s humorous |\\n|------------------|---------------|------------------|\\n| **“Why did the chai go to school?”** | *Chai* is a type of tea (especially a spiced tea from India). | It anthropomorphises the tea, giving it a human‑like motive (“going to school”), which immediately signals a joke. |\\n| **“Because it wanted to get a little *brew*ed education!”** | *Brewed* is a verb that means “to prepare tea or coffee by steeping.” The word *brew* also sounds like “brood” (to grow or develop). | The punchline is a **play on words**. The phrase “a little brewed education” can be read in two ways: 1) *a little brewed* (i.e., a small amount of brewed tea) **and** 2) *a little brewed education* (i.e., a modest education). The joke hinges on the double‑meaning of *brew*—it’s literally tea being “bred” (or brewed) and figuratively “bred” (educated). |\\n\\n### How the pun works\\n\\n1. **Chai** is a tea that *needs* brewing.  \\n2. The phrase “*brew*ed” cleverly combines the act of brewing tea with the idea of “breeding” (learning/growing).  \\n3. By saying the chai wants a “little *brew*ed education,” the joke suggests the tea wants to learn, but the word *brew* also keeps the tea‑theme alive.  \\n\\n### Why it’s funny\\n\\n- **Unexpected personification**: Tea going to school is absurd.  \\n- **Double‑meaning wordplay**: The humor comes from the two meanings of “brew.”  \\n- **Light‑hearted pun**: It’s a gentle, “dad‑joke” style pun that’s easy to understand and chuckle at.\\n\\nIn short, the joke is a clever mash‑up of tea terminology and the idea of schooling, making the tea “want” a *little brewed* (i.e., brewed) education. The humor is all in that punny twist.'}),), interrupts=()),\n",
       " StateSnapshot(values={'topic': 'Chai', 'joke': '**Why the joke is funny – a quick “word‑play” breakdown**\\n\\n| Element | What it is | How it works |\\n|--------|-----------|-------------|\\n| **“hotdog”** | A classic sandwich made of a sausage (often called a *frankfurter*). | Sets up the literal subject of the joke – a hotdog is a food item that would never normally think about jobs. |\\n| **“apply for a job”** | The usual phrase when someone is looking for work. | Gives the joke its narrative structure – we expect a person, but here it’s a food item. |\\n| **“a little *frank* experience”** | “Frank” is slang for honest or straightforward, but it’s also the word that describes a particular type of sausage (a *frankfurter*). | The pun is two‑fold: 1) It sounds like “to get a little honest experience,” and 2) it literally refers to a “frank” (hotdog) gaining “experience.” |\\n| **“earn some *bun* bucks”** | “Bun” refers to the bread roll that holds a hotdog, while “bucks” is slang for money. | The joke replaces “bucks” (money) with “bun” (the bread), creating a playful twist that keeps the food theme. |\\n\\n### How the humor unfolds\\n\\n1. **Expectation vs. Reality** – We’re used to hearing about people applying for jobs, not a hotdog. That mismatch already sets a playful tone.\\n2. **Double‑layered puns** – The punchline plays on two words that sound like everyday phrases but are literal food terms:  \\n   * *frank* → honest + frankfurter  \\n   * *bun* → bread roll + “bucks” (money).  \\n3. **Word‑play rhythm** – The rhyme (“frank” / “experience” / “bun” / “bucks”) gives the joke a sing‑song cadence that’s easy to repeat and enjoy.\\n4. **Self‑referential humor** – The hotdog is literally “getting experience” (i.e., becoming a better hotdog) and “earning bucks” (i.e., staying in the sandwich). It’s a light‑hearted, harmless joke that relies on the audience’s familiarity with both everyday slang and food terminology.\\n\\nSo, the joke is funny because it takes a mundane activity (applying for a job) and turns it into a tasty pun that plays on the double meanings of “frank” and “bun,” all while keeping the subject in the delicious realm of hotdogs.'}, next=('generate_joke',), config={'configurable': {'thread_id': '1', 'checkpoint_ns': '', 'checkpoint_id': '1f0775b7-6a12-6559-8004-d7a570359cb9'}}, metadata={'source': 'loop', 'step': 4, 'parents': {}}, created_at='2025-08-12T09:05:16.448700+00:00', parent_config={'configurable': {'thread_id': '1', 'checkpoint_ns': '', 'checkpoint_id': '1f0775b7-6a0f-632b-8003-1a6275c2c1c8'}}, tasks=(PregelTask(id='49bcbac9-67c7-8dd3-c731-479670f72e2a', name='generate_joke', path=('__pregel_pull', 'generate_joke'), error=None, interrupts=(), state=None, result={'joke': 'Why did the chai go to school?\\n\\nBecause it wanted to get a little *brew*ed education!'}),), interrupts=()),\n",
       " StateSnapshot(values={'topic': 'hotdog', 'joke': '**Why the joke is funny – a quick “word‑play” breakdown**\\n\\n| Element | What it is | How it works |\\n|--------|-----------|-------------|\\n| **“hotdog”** | A classic sandwich made of a sausage (often called a *frankfurter*). | Sets up the literal subject of the joke – a hotdog is a food item that would never normally think about jobs. |\\n| **“apply for a job”** | The usual phrase when someone is looking for work. | Gives the joke its narrative structure – we expect a person, but here it’s a food item. |\\n| **“a little *frank* experience”** | “Frank” is slang for honest or straightforward, but it’s also the word that describes a particular type of sausage (a *frankfurter*). | The pun is two‑fold: 1) It sounds like “to get a little honest experience,” and 2) it literally refers to a “frank” (hotdog) gaining “experience.” |\\n| **“earn some *bun* bucks”** | “Bun” refers to the bread roll that holds a hotdog, while “bucks” is slang for money. | The joke replaces “bucks” (money) with “bun” (the bread), creating a playful twist that keeps the food theme. |\\n\\n### How the humor unfolds\\n\\n1. **Expectation vs. Reality** – We’re used to hearing about people applying for jobs, not a hotdog. That mismatch already sets a playful tone.\\n2. **Double‑layered puns** – The punchline plays on two words that sound like everyday phrases but are literal food terms:  \\n   * *frank* → honest + frankfurter  \\n   * *bun* → bread roll + “bucks” (money).  \\n3. **Word‑play rhythm** – The rhyme (“frank” / “experience” / “bun” / “bucks”) gives the joke a sing‑song cadence that’s easy to repeat and enjoy.\\n4. **Self‑referential humor** – The hotdog is literally “getting experience” (i.e., becoming a better hotdog) and “earning bucks” (i.e., staying in the sandwich). It’s a light‑hearted, harmless joke that relies on the audience’s familiarity with both everyday slang and food terminology.\\n\\nSo, the joke is funny because it takes a mundane activity (applying for a job) and turns it into a tasty pun that plays on the double meanings of “frank” and “bun,” all while keeping the subject in the delicious realm of hotdogs.'}, next=('__start__',), config={'configurable': {'thread_id': '1', 'checkpoint_ns': '', 'checkpoint_id': '1f0775b7-6a0f-632b-8003-1a6275c2c1c8'}}, metadata={'source': 'input', 'step': 3, 'parents': {}}, created_at='2025-08-12T09:05:16.447415+00:00', parent_config={'configurable': {'thread_id': '1', 'checkpoint_ns': '', 'checkpoint_id': '1f0775ae-738c-6013-8002-a02fb687037c'}}, tasks=(PregelTask(id='e6d7ffa9-17bf-117b-8a10-fc807fddc674', name='__start__', path=('__pregel_pull', '__start__'), error=None, interrupts=(), state=None, result={'topic': 'Chai'}),), interrupts=()),\n",
       " StateSnapshot(values={'topic': 'hotdog', 'joke': '**Why the joke is funny – a quick “word‑play” breakdown**\\n\\n| Element | What it is | How it works |\\n|--------|-----------|-------------|\\n| **“hotdog”** | A classic sandwich made of a sausage (often called a *frankfurter*). | Sets up the literal subject of the joke – a hotdog is a food item that would never normally think about jobs. |\\n| **“apply for a job”** | The usual phrase when someone is looking for work. | Gives the joke its narrative structure – we expect a person, but here it’s a food item. |\\n| **“a little *frank* experience”** | “Frank” is slang for honest or straightforward, but it’s also the word that describes a particular type of sausage (a *frankfurter*). | The pun is two‑fold: 1) It sounds like “to get a little honest experience,” and 2) it literally refers to a “frank” (hotdog) gaining “experience.” |\\n| **“earn some *bun* bucks”** | “Bun” refers to the bread roll that holds a hotdog, while “bucks” is slang for money. | The joke replaces “bucks” (money) with “bun” (the bread), creating a playful twist that keeps the food theme. |\\n\\n### How the humor unfolds\\n\\n1. **Expectation vs. Reality** – We’re used to hearing about people applying for jobs, not a hotdog. That mismatch already sets a playful tone.\\n2. **Double‑layered puns** – The punchline plays on two words that sound like everyday phrases but are literal food terms:  \\n   * *frank* → honest + frankfurter  \\n   * *bun* → bread roll + “bucks” (money).  \\n3. **Word‑play rhythm** – The rhyme (“frank” / “experience” / “bun” / “bucks”) gives the joke a sing‑song cadence that’s easy to repeat and enjoy.\\n4. **Self‑referential humor** – The hotdog is literally “getting experience” (i.e., becoming a better hotdog) and “earning bucks” (i.e., staying in the sandwich). It’s a light‑hearted, harmless joke that relies on the audience’s familiarity with both everyday slang and food terminology.\\n\\nSo, the joke is funny because it takes a mundane activity (applying for a job) and turns it into a tasty pun that plays on the double meanings of “frank” and “bun,” all while keeping the subject in the delicious realm of hotdogs.'}, next=(), config={'configurable': {'thread_id': '1', 'checkpoint_ns': '', 'checkpoint_id': '1f0775ae-738c-6013-8002-a02fb687037c'}}, metadata={'source': 'loop', 'step': 2, 'parents': {}}, created_at='2025-08-12T09:01:15.850344+00:00', parent_config={'configurable': {'thread_id': '1', 'checkpoint_ns': '', 'checkpoint_id': '1f0775ae-6cef-6d8d-8001-d625b0bdeb5c'}}, tasks=(), interrupts=()),\n",
       " StateSnapshot(values={'topic': 'hotdog', 'joke': 'Why did the hotdog apply for a job?\\n\\nBecause it wanted to get a little *frank* experience and earn some *bun* bucks!'}, next=('generate_explaination',), config={'configurable': {'thread_id': '1', 'checkpoint_ns': '', 'checkpoint_id': '1f0775ae-6cef-6d8d-8001-d625b0bdeb5c'}}, metadata={'source': 'loop', 'step': 1, 'parents': {}}, created_at='2025-08-12T09:01:15.157236+00:00', parent_config={'configurable': {'thread_id': '1', 'checkpoint_ns': '', 'checkpoint_id': '1f0775ae-693e-66b5-8000-2c9006ed825d'}}, tasks=(PregelTask(id='b3baf81f-d6f5-328b-c5ca-25a6d242dc44', name='generate_explaination', path=('__pregel_pull', 'generate_explaination'), error=None, interrupts=(), state=None, result={'joke': '**Why the joke is funny – a quick “word‑play” breakdown**\\n\\n| Element | What it is | How it works |\\n|--------|-----------|-------------|\\n| **“hotdog”** | A classic sandwich made of a sausage (often called a *frankfurter*). | Sets up the literal subject of the joke – a hotdog is a food item that would never normally think about jobs. |\\n| **“apply for a job”** | The usual phrase when someone is looking for work. | Gives the joke its narrative structure – we expect a person, but here it’s a food item. |\\n| **“a little *frank* experience”** | “Frank” is slang for honest or straightforward, but it’s also the word that describes a particular type of sausage (a *frankfurter*). | The pun is two‑fold: 1) It sounds like “to get a little honest experience,” and 2) it literally refers to a “frank” (hotdog) gaining “experience.” |\\n| **“earn some *bun* bucks”** | “Bun” refers to the bread roll that holds a hotdog, while “bucks” is slang for money. | The joke replaces “bucks” (money) with “bun” (the bread), creating a playful twist that keeps the food theme. |\\n\\n### How the humor unfolds\\n\\n1. **Expectation vs. Reality** – We’re used to hearing about people applying for jobs, not a hotdog. That mismatch already sets a playful tone.\\n2. **Double‑layered puns** – The punchline plays on two words that sound like everyday phrases but are literal food terms:  \\n   * *frank* → honest + frankfurter  \\n   * *bun* → bread roll + “bucks” (money).  \\n3. **Word‑play rhythm** – The rhyme (“frank” / “experience” / “bun” / “bucks”) gives the joke a sing‑song cadence that’s easy to repeat and enjoy.\\n4. **Self‑referential humor** – The hotdog is literally “getting experience” (i.e., becoming a better hotdog) and “earning bucks” (i.e., staying in the sandwich). It’s a light‑hearted, harmless joke that relies on the audience’s familiarity with both everyday slang and food terminology.\\n\\nSo, the joke is funny because it takes a mundane activity (applying for a job) and turns it into a tasty pun that plays on the double meanings of “frank” and “bun,” all while keeping the subject in the delicious realm of hotdogs.'}),), interrupts=()),\n",
       " StateSnapshot(values={'topic': 'hotdog'}, next=('generate_joke',), config={'configurable': {'thread_id': '1', 'checkpoint_ns': '', 'checkpoint_id': '1f0775ae-693e-66b5-8000-2c9006ed825d'}}, metadata={'source': 'loop', 'step': 0, 'parents': {}}, created_at='2025-08-12T09:01:14.769989+00:00', parent_config={'configurable': {'thread_id': '1', 'checkpoint_ns': '', 'checkpoint_id': '1f0775ae-6939-68b0-bfff-e544d1a7cf63'}}, tasks=(PregelTask(id='682d6ff2-891a-e9c2-3f6c-3b6e3946fa3f', name='generate_joke', path=('__pregel_pull', 'generate_joke'), error=None, interrupts=(), state=None, result={'joke': 'Why did the hotdog apply for a job?\\n\\nBecause it wanted to get a little *frank* experience and earn some *bun* bucks!'}),), interrupts=()),\n",
       " StateSnapshot(values={}, next=('__start__',), config={'configurable': {'thread_id': '1', 'checkpoint_ns': '', 'checkpoint_id': '1f0775ae-6939-68b0-bfff-e544d1a7cf63'}}, metadata={'source': 'input', 'step': -1, 'parents': {}}, created_at='2025-08-12T09:01:14.767992+00:00', parent_config=None, tasks=(PregelTask(id='4792c4c7-f817-9d88-46a3-c77e8a463fce', name='__start__', path=('__pregel_pull', '__start__'), error=None, interrupts=(), state=None, result={'topic': 'hotdog'}),), interrupts=())]"
      ]
     },
     "execution_count": 14,
     "metadata": {},
     "output_type": "execute_result"
    }
   ],
   "source": [
    "list(workflow.get_state_history(config2))"
   ]
  },
  {
   "cell_type": "code",
   "execution_count": null,
   "id": "fb1b8128",
   "metadata": {},
   "outputs": [],
   "source": []
  }
 ],
 "metadata": {
  "kernelspec": {
   "display_name": "base",
   "language": "python",
   "name": "python3"
  },
  "language_info": {
   "codemirror_mode": {
    "name": "ipython",
    "version": 3
   },
   "file_extension": ".py",
   "mimetype": "text/x-python",
   "name": "python",
   "nbconvert_exporter": "python",
   "pygments_lexer": "ipython3",
   "version": "3.12.7"
  }
 },
 "nbformat": 4,
 "nbformat_minor": 5
}
