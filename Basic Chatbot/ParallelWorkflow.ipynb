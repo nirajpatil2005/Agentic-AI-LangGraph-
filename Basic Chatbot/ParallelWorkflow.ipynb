{
 "cells": [
  {
   "cell_type": "code",
   "execution_count": 3,
   "id": "c8208a21",
   "metadata": {},
   "outputs": [],
   "source": [
    "from langgraph.graph import StateGraph,START,END\n",
    "from typing import TypedDict"
   ]
  },
  {
   "cell_type": "code",
   "execution_count": 4,
   "id": "43dc863a",
   "metadata": {},
   "outputs": [],
   "source": [
    "class BatsmanState(TypedDict):\n",
    "    runs:int\n",
    "    balls:int\n",
    "    fours:int\n",
    "    sixes:int\n",
    "    \n",
    "    sr:float\n",
    "    bpb:float\n",
    "    boundary_percent:float\n",
    "    summary:str\n",
    "    "
   ]
  },
  {
   "cell_type": "code",
   "execution_count": 17,
   "id": "3c142d27",
   "metadata": {},
   "outputs": [],
   "source": [
    "def calculate_sr(state:BatsmanState):\n",
    "    sr= (state['runs']/state['balls'])*100\n",
    "    return {'sr':sr}"
   ]
  },
  {
   "cell_type": "code",
   "execution_count": 18,
   "id": "44e850f1",
   "metadata": {},
   "outputs": [],
   "source": [
    "def calculate_bpb(state:BatsmanState):\n",
    "    bpb= (state['balls']/(state['fours']+state['sixes']))\n",
    "    return {'bpb':bpb}"
   ]
  },
  {
   "cell_type": "code",
   "execution_count": 19,
   "id": "9fa5ddde",
   "metadata": {},
   "outputs": [],
   "source": [
    "def calculate_boundary_percent(state:BatsmanState):\n",
    "    boundary_percent=(((state['fours']*4)+(state['sixes']*6))/state['runs'])*100\n",
    "    return {'boundary_percent':boundary_percent}"
   ]
  },
  {
   "cell_type": "code",
   "execution_count": 26,
   "id": "87441ebe",
   "metadata": {},
   "outputs": [],
   "source": [
    "def summary(state:BatsmanState):\n",
    "    summary=f\"\"\"\n",
    "    Strike Rate:{state['sr']}\\n\n",
    "    Balls per Boundary:{state['bpb']}\\n\n",
    "    Boundary Percent:{state['boundary_percent']}\n",
    "    \"\"\"\n",
    "    state['summary']=summary\n",
    "    return {'summary':summary}"
   ]
  },
  {
   "cell_type": "code",
   "execution_count": 21,
   "id": "5e7a75a4",
   "metadata": {},
   "outputs": [
    {
     "data": {
      "text/plain": [
       "<langgraph.graph.state.StateGraph at 0x1a4cc9ff890>"
      ]
     },
     "execution_count": 21,
     "metadata": {},
     "output_type": "execute_result"
    }
   ],
   "source": [
    "graph=StateGraph(BatsmanState)\n",
    "graph.add_node('calculate_sr',calculate_sr)\n",
    "graph.add_node('calculate_bpb',calculate_bpb)\n",
    "graph.add_node('calculate_boundary_percent',calculate_boundary_percent)\n",
    "graph.add_node('summary',summary)"
   ]
  },
  {
   "cell_type": "code",
   "execution_count": 22,
   "id": "78835042",
   "metadata": {},
   "outputs": [
    {
     "data": {
      "image/png": "[encoded data removed]",
      "text/plain": [
       "<langgraph.graph.state.CompiledStateGraph object at 0x000001A4CC9FF260>"
      ]
     },
     "execution_count": 22,
     "metadata": {},
     "output_type": "execute_result"
    }
   ],
   "source": [
    "#edges\n",
    "graph.add_edge(START,'calculate_sr')\n",
    "graph.add_edge(START,'calculate_bpb')\n",
    "graph.add_edge(START,'calculate_boundary_percent')\n",
    "\n",
    "graph.add_edge('calculate_sr','summary')\n",
    "graph.add_edge('calculate_bpb','summary')\n",
    "graph.add_edge('calculate_boundary_percent','summary')\n",
    "\n",
    "graph.add_edge('summary',END)\n",
    "graph.add_edge('summary',END)\n",
    "graph.add_edge('summary',END)\n",
    "\n",
    "workflow=graph.compile()\n",
    "workflow"
   ]
  },
  {
   "cell_type": "code",
   "execution_count": 28,
   "id": "8e025d2b",
   "metadata": {},
   "outputs": [
    {
     "data": {
      "text/plain": [
       "{'runs': 100,\n",
       " 'balls': 50,\n",
       " 'fours': 6,\n",
       " 'sixes': 4,\n",
       " 'sr': 200.0,\n",
       " 'bpb': 5.0,\n",
       " 'boundary_percent': 48.0,\n",
       " 'summary': '\\n    Strike Rate:200.0\\n\\n    Balls per Boundary:5.0\\n\\n    Boundary Percent:48.0\\n    '}"
      ]
     },
     "execution_count": 28,
     "metadata": {},
     "output_type": "execute_result"
    }
   ],
   "source": [
    "intial_state={\n",
    "    'runs':100,\n",
    "    'balls':50,\n",
    "    'fours':6,\n",
    "    'sixes':4\n",
    "}\n",
    "workflow.invoke(intial_state)"
   ]
  },
  {
   "cell_type": "markdown",
   "id": "b8bb7b4f",
   "metadata": {},
   "source": [
    "**Parallelization Workflow**"
   ]
  },
  {
   "cell_type": "code",
   "execution_count": 66,
   "id": "b2971072",
   "metadata": {},
   "outputs": [],
   "source": [
    "from langgraph.graph import START,END,StateGraph\n",
    "from langchain_groq import ChatGroq\n",
    "from dotenv import load_dotenv\n",
    "from typing import TypedDict\n",
    "from pydantic import BaseModel,Field\n",
    "from langchain_huggingface import ChatHuggingFace,HuggingFaceEndpoint\n",
    "import os"
   ]
  },
  {
   "cell_type": "code",
   "execution_count": 67,
   "id": "af0698f3",
   "metadata": {},
   "outputs": [],
   "source": [
    "load_dotenv()\n",
    "\n",
    "hf_token=os.getenv(\"HF_TOKEN\")\n",
    "\n",
    "llm = HuggingFaceEndpoint(\n",
    "    repo_id=\"moonshotai/Kimi-K2-Instruct\",  # Use the correct model repo_id\n",
    "    task=\"text-generation\",  # You can adjust this based on your model task\n",
    "    model_kwargs={\"headers\": {\"Authorization\": f\"Bearer {hf_token}\"}}\n",
    ")\n",
    "\n",
    "model=ChatHuggingFace(llm=llm)"
   ]
  },
  {
   "cell_type": "code",
   "execution_count": 68,
   "id": "abcfe9ce",
   "metadata": {},
   "outputs": [],
   "source": [
    "\n",
    "groq_token = os.getenv(\"test_groq\")\n",
    "llm = ChatGroq(\n",
    "    groq_api_key=groq_token,\n",
    "    model_name=\"meta-llama/llama-4-scout-17b-16e-instruct\"\n",
    ")"
   ]
  },
  {
   "cell_type": "code",
   "execution_count": 69,
   "id": "b5403fb1",
   "metadata": {},
   "outputs": [],
   "source": [
    "class EvaluationSchema(BaseModel):\n",
    "    \n",
    "    feedback:str=Field(description=\"detailed feedback for the essay\")\n",
    "    score:int=Field(description=\"score out of 10\",ge=0,le=10)\n",
    "    "
   ]
  },
  {
   "cell_type": "code",
   "execution_count": 70,
   "id": "387963fc",
   "metadata": {},
   "outputs": [],
   "source": [
    "structure_model=llm.with_structured_output(EvaluationSchema)"
   ]
  },
  {
   "cell_type": "code",
   "execution_count": 71,
   "id": "d6d0b919",
   "metadata": {},
   "outputs": [
    {
     "name": "stderr",
     "output_type": "stream",
     "text": [
      "<>:1: SyntaxWarning: invalid escape sequence '\\&'\n",
      "<>:1: SyntaxWarning: invalid escape sequence '\\&'\n",
      "C:\\Users\\niraj\\AppData\\Local\\Temp\\ipykernel_29716\\1684790804.py:1: SyntaxWarning: invalid escape sequence '\\&'\n",
      "  essay=\"\"\"\n"
     ]
    }
   ],
   "source": [
    "essay=\"\"\"\n",
    "India plays a growing and strategic role in the global Artificial Intelligence (AI) ecosystem. Here's a breakdown of its role across several key areas:\n",
    "\n",
    "---\n",
    "\n",
    "### 🔬 **1. Research & Development**\n",
    "\n",
    "* **Academic Contribution**: Institutions like the Indian Institute of Science (IISc), IITs, and IIITs are producing significant AI research, particularly in areas like computer vision, natural language processing, and AI ethics.\n",
    "* **Private Sector R\\&D**: Companies like TCS, Infosys, Wipro, and startups are investing in AI labs and solutions. Global firms (Google, Microsoft, Amazon) have AI research centers in India.\n",
    "\n",
    "---\n",
    "\n",
    "### 💼 **2. Talent Pool**\n",
    "\n",
    "* **Large Technical Workforce**: India has one of the world’s largest populations of software developers and engineers. It produces millions of STEM graduates each year.\n",
    "* **Global AI Workforce**: Many AI researchers and engineers in top positions at global tech firms are Indian or of Indian origin.\n",
    "\n",
    "---\n",
    "\n",
    "### 🌐 **3. AI for Social Good**\n",
    "\n",
    "India focuses on applying AI to solve pressing challenges:\n",
    "\n",
    "* **Agriculture**: AI for crop monitoring, yield prediction, pest control.\n",
    "* **Healthcare**: Disease diagnosis (e.g., TB, cancer), telemedicine, drug discovery.\n",
    "* **Education**: Personalized learning platforms.\n",
    "* **Language Translation**: Tools to bridge India's multilingual landscape (like Bhashini).\n",
    "* **Governance**: AI for digital public services, traffic management, and fraud detection.\n",
    "\n",
    "---\n",
    "\n",
    "### 🧠 **4. National AI Strategy**\n",
    "\n",
    "India is building its AI strategy through:\n",
    "\n",
    "* **NITI Aayog’s Initiatives**: The government think tank published a roadmap called \"AI for All\" focusing on five key areas—healthcare, agriculture, education, smart cities, and smart mobility.\n",
    "* **National Program on AI**: Aimed at building AI infrastructure and policies.\n",
    "* **Data Governance**: Work is ongoing around data protection and AI ethics.\n",
    "\n",
    "---\n",
    "\n",
    "### 🚀 **5. AI Startups & Innovation**\n",
    "\n",
    "* India has over 3,000 AI startups, working in fintech, edtech, healthtech, etc.\n",
    "* Incubators like T-Hub (Hyderabad) and accelerators are supporting AI innovation.\n",
    "* India is emerging as a hub for AI-powered SaaS products.\n",
    "\n",
    "---\n",
    "\n",
    "### 🌍 **6. Global AI Diplomacy**\n",
    "\n",
    "* India is part of international forums like the **Global Partnership on AI (GPAI)**.\n",
    "* It advocates for **ethical, inclusive, and open-source AI** that benefits the Global South.\n",
    "* Promotes collaboration with countries like the U.S., Japan, and EU for AI research and regulation.\n",
    "\n",
    "---\n",
    "\n",
    "### ⚖️ **7. AI Regulation & Ethics**\n",
    "\n",
    "* Discussions are underway on AI regulation to balance innovation with safety.\n",
    "* India is cautious about AI in facial recognition and surveillance.\n",
    "* It promotes **responsible and human-centric AI**.\n",
    "\n",
    "---\n",
    "\n",
    "### 🔮 Summary: India's Role in AI\n",
    "\n",
    "| Area         | Role                            |\n",
    "| ------------ | ------------------------------- |\n",
    "| Research     | Emerging contributor            |\n",
    "| Talent       | Major global supplier           |\n",
    "| Application  | Social impact focus             |\n",
    "| Startups     | Fast-growing ecosystem          |\n",
    "| Global Stage | Advocate for inclusive AI       |\n",
    "| Regulation   | Work-in-progress, ethics-driven |\n",
    "\n",
    "\"\"\""
   ]
  },
  {
   "cell_type": "code",
   "execution_count": 72,
   "id": "00c6645d",
   "metadata": {},
   "outputs": [],
   "source": [
    "prompt=f\"\"\"\n",
    "Evaluate the quality of the folloewing essay and provide a feedback and\n",
    "assign a score out of 10 \\n {essay}\"\"\""
   ]
  },
  {
   "cell_type": "code",
   "execution_count": 73,
   "id": "31f9c585",
   "metadata": {},
   "outputs": [
    {
     "data": {
      "text/plain": [
       "EvaluationSchema(feedback=\"The essay provides a comprehensive overview of India's role in the global AI ecosystem, covering various aspects such as research and development, talent pool, AI for social good, national AI strategy, AI startups and innovation, global AI diplomacy, and AI regulation and ethics. The essay is well-structured, and each section is clearly defined. The use of bullet points and subheadings makes the content easily readable and understandable. The essay also highlights India's strengths and areas of focus in the AI domain, such as its large technical workforce, significant research contributions, and emphasis on applying AI for social good. However, the essay could benefit from more critical analysis and evaluation of India's role in AI, as well as more concrete examples and data to support the claims made.\", score=8)"
      ]
     },
     "execution_count": 73,
     "metadata": {},
     "output_type": "execute_result"
    }
   ],
   "source": [
    "structure_model.invoke(prompt)"
   ]
  },
  {
   "cell_type": "code",
   "execution_count": 74,
   "id": "6a12dd7d",
   "metadata": {},
   "outputs": [
    {
     "data": {
      "text/plain": [
       "\"The essay provides a comprehensive overview of India's role in the global AI ecosystem, covering various aspects such as research and development, talent pool, AI for social good, national AI strategy, AI startups and innovation, global AI diplomacy, and AI regulation and ethics. The essay is well-structured, and each section is clearly defined. The use of bullet points and subheadings makes the content easily readable and understandable. However, some sections could be more detailed, and there is room for more critical analysis of the challenges and limitations India faces in its AI journey.\""
      ]
     },
     "execution_count": 74,
     "metadata": {},
     "output_type": "execute_result"
    }
   ],
   "source": [
    "structure_model.invoke(prompt).feedback"
   ]
  },
  {
   "cell_type": "code",
   "execution_count": 75,
   "id": "1d2094dd",
   "metadata": {},
   "outputs": [
    {
     "data": {
      "text/plain": [
       "8"
      ]
     },
     "execution_count": 75,
     "metadata": {},
     "output_type": "execute_result"
    }
   ],
   "source": [
    "structure_model.invoke(prompt).score"
   ]
  },
  {
   "cell_type": "code",
   "execution_count": 76,
   "id": "2dd7bede",
   "metadata": {},
   "outputs": [],
   "source": [
    "import operator\n",
    "from typing import Annotated\n",
    "\n",
    "class UPSCState(TypedDict):\n",
    "    essay:str\n",
    "    language_feedback:str\n",
    "    analysis_feedback:str\n",
    "    clarity_feedback:str\n",
    "    overall_feedback:str\n",
    "    individual_score:Annotated[list[int],operator.add]#reducer function\n",
    "    avg_score:float"
   ]
  },
  {
   "cell_type": "code",
   "execution_count": 93,
   "id": "9ea9d65d",
   "metadata": {},
   "outputs": [],
   "source": [
    "def evaluate_language(state:UPSCState):\n",
    "    \n",
    "    prompt=f\"\"\"\n",
    "            Evaluate the quality of the folloewing essay and provide a feedback and\n",
    "            assign a score out of 10 \\n {state['essay']}\n",
    "            \"\"\"\n",
    "    output=structure_model.invoke(prompt)\n",
    "    return {\n",
    "    'language_feedback': output.feedback,\n",
    "    'individual_score': [output.score]  # ✅ wrap in list\n",
    "     }\n"
   ]
  },
  {
   "cell_type": "code",
   "execution_count": 94,
   "id": "fa273c4b",
   "metadata": {},
   "outputs": [],
   "source": [
    "def evaluate_analysis(state:UPSCState):\n",
    "    \n",
    "    prompt=f\"\"\"\n",
    "            Evaluate the depth of Analysis the following essay and provide a feedback and\n",
    "            assign a score out of 10 \\n {state['essay']}\n",
    "            \"\"\"\n",
    "    output=structure_model.invoke(prompt)\n",
    "    return {\n",
    "    'analysis_feedback': output.feedback,\n",
    "    'individual_score': [output.score]  # ✅ wrap in list\n",
    "        }\n"
   ]
  },
  {
   "cell_type": "code",
   "execution_count": 101,
   "id": "661fc7fc",
   "metadata": {},
   "outputs": [],
   "source": [
    "def evaluate_thought(state: UPSCState):\n",
    "    prompt = f\"\"\"\n",
    "    Evaluate the clarity of thought in the following essay and provide feedback and\n",
    "    assign a score out of 10 \\n {state['essay']}\n",
    "    \"\"\"\n",
    "    output = structure_model.invoke(prompt)\n",
    "    return {\n",
    "        'clarity_feedback': output.feedback,\n",
    "        'individual_score': [output.score]\n",
    "    }\n"
   ]
  },
  {
   "cell_type": "code",
   "execution_count": 102,
   "id": "5f327e66",
   "metadata": {},
   "outputs": [],
   "source": [
    "\n",
    "def final_evaluation(state: UPSCState):\n",
    "\n",
    "    # summary feedback\n",
    "    prompt = f'Based on the following feedbacks create a summarized feedback \\n language feedback - {state[\"language_feedback\"]} \\n depth of analysis feedback - {state[\"analysis_feedback\"]} \\n clarity of thought feedback - {state[\"clarity_feedback\"]}'\n",
    "    overall_feedback = model.invoke(prompt).content\n",
    "\n",
    "    # avg calculate\n",
    "    avg_score = sum(state['individual_score'])/len(state['individual_score'])\n",
    "\n",
    "    return {'overall_feedback': overall_feedback, 'avg_score': avg_score}"
   ]
  },
  {
   "cell_type": "code",
   "execution_count": 103,
   "id": "bb303614",
   "metadata": {},
   "outputs": [
    {
     "data": {
      "image/png": "[encoded data removed]",
      "text/plain": [
       "<langgraph.graph.state.CompiledStateGraph object at 0x000001A4D0A5FAD0>"
      ]
     },
     "execution_count": 103,
     "metadata": {},
     "output_type": "execute_result"
    }
   ],
   "source": [
    "graph = StateGraph(UPSCState)\n",
    "\n",
    "graph.add_node('evaluate_language', evaluate_language)\n",
    "graph.add_node('evaluate_analysis', evaluate_analysis)\n",
    "graph.add_node('evaluate_thought', evaluate_thought)\n",
    "graph.add_node('final_evaluation', final_evaluation)\n",
    "\n",
    "# edges\n",
    "graph.add_edge(START, 'evaluate_language')\n",
    "graph.add_edge(START, 'evaluate_analysis')\n",
    "graph.add_edge(START, 'evaluate_thought')\n",
    "\n",
    "graph.add_edge('evaluate_language', 'final_evaluation')\n",
    "graph.add_edge('evaluate_analysis', 'final_evaluation')\n",
    "graph.add_edge('evaluate_thought', 'final_evaluation')\n",
    "\n",
    "graph.add_edge('final_evaluation', END)\n",
    "\n",
    "workflow = graph.compile()\n",
    "workflow"
   ]
  },
  {
   "cell_type": "code",
   "execution_count": 104,
   "id": "da8c896d",
   "metadata": {},
   "outputs": [
    {
     "data": {
      "text/plain": [
       "{'essay': '\\nIndia plays a growing and strategic role in the global Artificial Intelligence (AI) ecosystem. Here\\'s a breakdown of its role across several key areas:\\n\\n---\\n\\n### 🔬 **1. Research & Development**\\n\\n* **Academic Contribution**: Institutions like the Indian Institute of Science (IISc), IITs, and IIITs are producing significant AI research, particularly in areas like computer vision, natural language processing, and AI ethics.\\n* **Private Sector R\\\\&D**: Companies like TCS, Infosys, Wipro, and startups are investing in AI labs and solutions. Global firms (Google, Microsoft, Amazon) have AI research centers in India.\\n\\n---\\n\\n### 💼 **2. Talent Pool**\\n\\n* **Large Technical Workforce**: India has one of the world’s largest populations of software developers and engineers. It produces millions of STEM graduates each year.\\n* **Global AI Workforce**: Many AI researchers and engineers in top positions at global tech firms are Indian or of Indian origin.\\n\\n---\\n\\n### 🌐 **3. AI for Social Good**\\n\\nIndia focuses on applying AI to solve pressing challenges:\\n\\n* **Agriculture**: AI for crop monitoring, yield prediction, pest control.\\n* **Healthcare**: Disease diagnosis (e.g., TB, cancer), telemedicine, drug discovery.\\n* **Education**: Personalized learning platforms.\\n* **Language Translation**: Tools to bridge India\\'s multilingual landscape (like Bhashini).\\n* **Governance**: AI for digital public services, traffic management, and fraud detection.\\n\\n---\\n\\n### 🧠 **4. National AI Strategy**\\n\\nIndia is building its AI strategy through:\\n\\n* **NITI Aayog’s Initiatives**: The government think tank published a roadmap called \"AI for All\" focusing on five key areas—healthcare, agriculture, education, smart cities, and smart mobility.\\n* **National Program on AI**: Aimed at building AI infrastructure and policies.\\n* **Data Governance**: Work is ongoing around data protection and AI ethics.\\n\\n---\\n\\n### 🚀 **5. AI Startups & Innovation**\\n\\n* India has over 3,000 AI startups, working in fintech, edtech, healthtech, etc.\\n* Incubators like T-Hub (Hyderabad) and accelerators are supporting AI innovation.\\n* India is emerging as a hub for AI-powered SaaS products.\\n\\n---\\n\\n### 🌍 **6. Global AI Diplomacy**\\n\\n* India is part of international forums like the **Global Partnership on AI (GPAI)**.\\n* It advocates for **ethical, inclusive, and open-source AI** that benefits the Global South.\\n* Promotes collaboration with countries like the U.S., Japan, and EU for AI research and regulation.\\n\\n---\\n\\n### ⚖️ **7. AI Regulation & Ethics**\\n\\n* Discussions are underway on AI regulation to balance innovation with safety.\\n* India is cautious about AI in facial recognition and surveillance.\\n* It promotes **responsible and human-centric AI**.\\n\\n---\\n\\n### 🔮 Summary: India\\'s Role in AI\\n\\n| Area         | Role                            |\\n| ------------ | ------------------------------- |\\n| Research     | Emerging contributor            |\\n| Talent       | Major global supplier           |\\n| Application  | Social impact focus             |\\n| Startups     | Fast-growing ecosystem          |\\n| Global Stage | Advocate for inclusive AI       |\\n| Regulation   | Work-in-progress, ethics-driven |\\n\\n',\n",
       " 'language_feedback': \"The essay provides a comprehensive overview of India's role in the global AI ecosystem, covering various aspects such as research and development, talent pool, AI for social good, national AI strategy, AI startups, global AI diplomacy, and AI regulation. The essay is well-structured, and the use of subheadings and bullet points makes it easy to follow. The content is informative, and the writer provides specific examples and data to support their claims. However, some paragraphs feel a bit too long, and a few sentences could be rephrased for better clarity. Overall, the essay demonstrates a good understanding of the topic and presents a positive view of India's role in AI.\",\n",
       " 'analysis_feedback': \"The essay provides a comprehensive overview of India's role in the global AI ecosystem, covering various aspects such as research and development, talent pool, AI for social good, national AI strategy, AI startups and innovation, global AI diplomacy, and AI regulation and ethics. The analysis is well-structured and easy to follow. However, some areas could be explored in more depth, such as the specific challenges faced by India in its AI journey and the potential future directions. Additionally, more concrete examples and data would strengthen the arguments. Overall, the essay demonstrates a good understanding of India's growing strategic role in AI.\",\n",
       " 'clarity_feedback': \"The essay provides a comprehensive overview of India's role in the global AI ecosystem, covering various aspects such as research and development, talent pool, AI for social good, national AI strategy, AI startups, global AI diplomacy, and AI regulation. The structure is clear and easy to follow, with each section focusing on a specific area. However, some paragraphs could be more concise, and there are a few areas where more specific examples or data could enhance the arguments. Overall, the clarity of thought is strong, with a logical flow of ideas.\",\n",
       " 'overall_feedback': 'Summary of Feedback\\n\\nStrengths  \\n- Comprehensive coverage: the essay explores India’s AI leadership across R&D, talent, social-good applications, national strategy, start-up ecosystem, global diplomacy, and regulation/ethics.  \\n- Structure and design: clear sub-headings, logical flow, and effective use of bullet points make the essay highly readable.  \\n- Evidence and positivity: strong use of concrete examples and data that project a confident, optimistic view of India’s strategic AI role.\\n\\nAreas for Improvement  \\n- Depth & balance: probe deeper into India’s current AI challenges and outline future trajectory; add more nuanced, quantified case studies.  \\n- Length & clarity: compress over-long paragraphs; tighten and rephrase some sentences for brevity without sacrificing information.',\n",
       " 'individual_score': [8, 8, 8],\n",
       " 'avg_score': 8.0}"
      ]
     },
     "execution_count": 104,
     "metadata": {},
     "output_type": "execute_result"
    }
   ],
   "source": [
    "intial_state={\n",
    "    'essay':essay,\n",
    "    'individual_score': []\n",
    "}\n",
    "workflow.invoke(intial_state)"
   ]
  },
  {
   "cell_type": "code",
   "execution_count": null,
   "id": "6b76a28f",
   "metadata": {},
   "outputs": [],
   "source": []
  }
 ],
 "metadata": {
  "kernelspec": {
   "display_name": "base",
   "language": "python",
   "name": "python3"
  },
  "language_info": {
   "codemirror_mode": {
    "name": "ipython",
    "version": 3
   },
   "file_extension": ".py",
   "mimetype": "text/x-python",
   "name": "python",
   "nbconvert_exporter": "python",
   "pygments_lexer": "ipython3",
   "version": "3.12.7"
  }
 },
 "nbformat": 4,
 "nbformat_minor": 5
}
